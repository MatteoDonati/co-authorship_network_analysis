{
  "nbformat": 4,
  "nbformat_minor": 0,
  "metadata": {
    "colab": {
      "provenance": [],
      "collapsed_sections": []
    },
    "kernelspec": {
      "name": "python3",
      "display_name": "Python 3"
    },
    "language_info": {
      "name": "python"
    }
  },
  "cells": [
    {
      "cell_type": "code",
      "source": [
        "# Installing LaTeX.\n",
        "!sudo apt-get install dvipng texlive-latex-extra texlive-fonts-recommended cm-super"
      ],
      "metadata": {
        "colab": {
          "base_uri": "https://localhost:8080/"
        },
        "id": "7cp3ZazugZql",
        "outputId": "99b8705a-3efe-4ea0-f4ba-937d57dda8b6"
      },
      "execution_count": 1,
      "outputs": [
        {
          "output_type": "stream",
          "name": "stdout",
          "text": [
            "Reading package lists... Done\n",
            "Building dependency tree       \n",
            "Reading state information... Done\n",
            "cm-super is already the newest version (0.3.4-11).\n",
            "dvipng is already the newest version (1.15-1).\n",
            "texlive-fonts-recommended is already the newest version (2017.20180305-1).\n",
            "texlive-latex-extra is already the newest version (2017.20180305-2).\n",
            "The following package was automatically installed and is no longer required:\n",
            "  libnvidia-common-460\n",
            "Use 'sudo apt autoremove' to remove it.\n",
            "0 upgraded, 0 newly installed, 0 to remove and 12 not upgraded.\n"
          ]
        }
      ]
    },
    {
      "cell_type": "code",
      "source": [
        "!git clone https://github.com/chenyang03/co-authorship-network"
      ],
      "metadata": {
        "colab": {
          "base_uri": "https://localhost:8080/"
        },
        "id": "DUevlEkdDx01",
        "outputId": "71e3d1b8-b820-4359-af8e-91d21aaa1036"
      },
      "execution_count": 2,
      "outputs": [
        {
          "output_type": "stream",
          "name": "stdout",
          "text": [
            "fatal: destination path 'co-authorship-network' already exists and is not an empty directory.\n"
          ]
        }
      ]
    },
    {
      "cell_type": "code",
      "source": [
        "# Importing networkx.\n",
        "import networkx as nx\n",
        "\n",
        "# Importing numpy.\n",
        "import numpy as np\n",
        "\n",
        "# Importing pyplot.\n",
        "import matplotlib.pyplot as plt\n",
        "\n",
        "# Importing time.\n",
        "import time\n",
        "\n",
        "# Importing stats from scipy.\n",
        "from scipy import stats\n",
        "\n",
        "# Using TeX.\n",
        "plt.rc(\"text\", usetex = True)\n",
        "\n",
        "# Setting the font family.\n",
        "plt.rc(\"font\", family = \"serif\")\n",
        "\n",
        "# Setting the font size.\n",
        "plt.rcParams.update({\"font.size\": 15})\n",
        "\n",
        "# Using package amsmath.\n",
        "plt.rcParams[\"text.latex.preamble\"] = [r\"\\usepackage{amsmath}\"]"
      ],
      "metadata": {
        "id": "GLPEp1DUtuek"
      },
      "execution_count": 3,
      "outputs": []
    },
    {
      "cell_type": "code",
      "source": [
        "# Reading nodes file.\n",
        "with open(\"co-authorship-network/nodes.txt\") as f:\n",
        "    nodes = f.readlines()\n",
        "\n",
        "# Reading edges file.\n",
        "with open(\"co-authorship-network/edges.txt\") as f:\n",
        "    edges = f.readlines()\n",
        "\n",
        "# Reading nodes information file.\n",
        "with open(\"co-authorship-network/gs_info.txt\") as f:\n",
        "    info = f.readlines()\n",
        "\n",
        "# Casting nodes elements to integers.\n",
        "nodes = [eval(i) for i in nodes]\n",
        "\n",
        "# Casting edges elements to integer tuples.\n",
        "edges = [eval(i) for i in edges]\n",
        "\n",
        "# Replacing \" \" with \",\".\n",
        "info = [i.replace(\" \", \",\") for i in info]\n",
        "\n",
        "# Casting info elements to integer tuples.\n",
        "info = [eval(i) for i in info]\n",
        "\n",
        "# Creating the list of dictionaries containing the nodes attributes.\n",
        "info = [{\"id\": i[0], \"total_number_of_citations\": i[1], \"h_index\": i[2], \"g_index\": i[3], \"academic_title\": i[4], \"computer_science_author\": i[5], \"biology_author\": i[6], \"sociology_author\": i[7]} for i in info]"
      ],
      "metadata": {
        "id": "5DtxGlfAuq0l"
      },
      "execution_count": 4,
      "outputs": []
    },
    {
      "cell_type": "code",
      "source": [
        "# Creating the graph.\n",
        "G = nx.Graph()\n",
        "\n",
        "# Adding nodes.\n",
        "G.add_nodes_from(list(zip(nodes, info)))\n",
        "\n",
        "# Adding edges.\n",
        "G.add_edges_from(edges)\n",
        "\n",
        "# Printing the number of nodes and edges.\n",
        "G.number_of_nodes(), G.number_of_edges()"
      ],
      "metadata": {
        "id": "FfQ7FmAjv-I1",
        "colab": {
          "base_uri": "https://localhost:8080/"
        },
        "outputId": "ecf9a3f6-a0ad-4cb6-dd2a-002222e04e9c"
      },
      "execution_count": 5,
      "outputs": [
        {
          "output_type": "execute_result",
          "data": {
            "text/plain": [
              "(402392, 1234019)"
            ]
          },
          "metadata": {},
          "execution_count": 5
        }
      ]
    },
    {
      "cell_type": "code",
      "source": [
        "# Auxiliary function used to plot measures.\n",
        "def plot(x, y, xlabel, ylabel, xlim, ylim, filename):\n",
        "  fig, ax = plt.subplots(1, 1, figsize = (6, 4))\n",
        "  ax.set_xlabel(xlabel)\n",
        "  ax.set_ylabel(ylabel)\n",
        "  ax.set_xlim(xlim)\n",
        "  ax.set_ylim(ylim)\n",
        "  ax.plot(x, y)\n",
        "  fig.savefig(f\"{filename}.pdf\", bbox_inches = \"tight\")\n",
        "  plt.show()"
      ],
      "metadata": {
        "id": "m8luyhD3QdL0"
      },
      "execution_count": 6,
      "outputs": []
    },
    {
      "cell_type": "code",
      "source": [
        "# Computing the list of nodes' degree.\n",
        "degrees = [degree for (node, degree) in G.degree()]\n",
        "\n",
        "# Printing the average degree of network G.\n",
        "print(f\"The average degree of network G is: {np.mean(degrees)}.\")"
      ],
      "metadata": {
        "id": "iuER2o8EHsg0",
        "colab": {
          "base_uri": "https://localhost:8080/"
        },
        "outputId": "c31488a4-fcbc-4260-9db9-f8b40dc36eeb"
      },
      "execution_count": 7,
      "outputs": [
        {
          "output_type": "stream",
          "name": "stdout",
          "text": [
            "The average degree of network G is: 6.1334171653512.\n"
          ]
        }
      ]
    },
    {
      "cell_type": "code",
      "source": [
        "# Printing the median value of the degrees in G.\n",
        "print(f\"The median value of the degrees in G is: {np.median(degrees)}.\")"
      ],
      "metadata": {
        "colab": {
          "base_uri": "https://localhost:8080/"
        },
        "id": "cbBSL-WnMwvj",
        "outputId": "7ffd219d-59e5-4453-84c1-c8d566e978b6"
      },
      "execution_count": 8,
      "outputs": [
        {
          "output_type": "stream",
          "name": "stdout",
          "text": [
            "The median value of the degrees in G is: 2.0.\n"
          ]
        }
      ]
    },
    {
      "cell_type": "code",
      "source": [
        "# Printing the maximum value of the degrees in G.\n",
        "print(f\"The maximum degree value of G is: {np.max(degrees)}.\")"
      ],
      "metadata": {
        "colab": {
          "base_uri": "https://localhost:8080/"
        },
        "id": "G3fnbbcQm6Lv",
        "outputId": "489f6fca-db65-4b5c-ef68-9a161285000b"
      },
      "execution_count": 9,
      "outputs": [
        {
          "output_type": "stream",
          "name": "stdout",
          "text": [
            "The maximum degree value of G is: 463.\n"
          ]
        }
      ]
    },
    {
      "cell_type": "code",
      "source": [
        "# Printing the minimum value of the degrees in G.\n",
        "print(f\"The minimum degree value of G is: {np.min(degrees)}.\")"
      ],
      "metadata": {
        "colab": {
          "base_uri": "https://localhost:8080/"
        },
        "id": "JGf1OkxpnBgG",
        "outputId": "373e9bd1-2f4d-4034-d180-aa39f3b73dcf"
      },
      "execution_count": 10,
      "outputs": [
        {
          "output_type": "stream",
          "name": "stdout",
          "text": [
            "The minimum degree value of G is: 0.\n"
          ]
        }
      ]
    },
    {
      "cell_type": "code",
      "source": [
        "# Plotting the CDF of the degrees of G.\n",
        "plot(np.sort(degrees), np.arange(len(degrees)) / float(len(degrees)) * 100, \"Degree\", r\"Percentage (\\%)\", [0, 100], [0, 100], \"degrees_CDF\")"
      ],
      "metadata": {
        "colab": {
          "base_uri": "https://localhost:8080/",
          "height": 291
        },
        "id": "OBTFQvpBOmn4",
        "outputId": "4cdd96fc-9edd-4256-e22d-33bea6aaddcb"
      },
      "execution_count": 11,
      "outputs": [
        {
          "output_type": "display_data",
          "data": {
            "text/plain": [
              "<Figure size 432x288 with 1 Axes>"
            ],
            "image/png": "[encoded data removed]"
          },
          "metadata": {
            "needs_background": "light"
          }
        }
      ]
    },
    {
      "cell_type": "code",
      "source": [
        "# Plotting the distribution of degrees.\n",
        "fig, ax = plt.subplots(1, 1, figsize = (6, 4))\n",
        "ax.hist(degrees , bins = 100)\n",
        "ax.set_xlabel(\"Degree\")\n",
        "ax.set_ylabel(\"Counts\")\n",
        "fig.savefig(f\"degrees_distribution.pdf\", bbox_inches = \"tight\")\n",
        "plt.show()"
      ],
      "metadata": {
        "colab": {
          "base_uri": "https://localhost:8080/",
          "height": 286
        },
        "id": "_Rq-IZDCl-Sc",
        "outputId": "79129d5a-f044-48cf-fa72-38cfc445adf8"
      },
      "execution_count": 12,
      "outputs": [
        {
          "output_type": "display_data",
          "data": {
            "text/plain": [
              "<Figure size 432x288 with 1 Axes>"
            ],
            "image/png": "[encoded data removed]"
          },
          "metadata": {
            "needs_background": "light"
          }
        }
      ]
    },
    {
      "cell_type": "code",
      "source": [
        "# Computing the list of nodes' clustering coefficient.\n",
        "clustering_coefficients = list(nx.clustering(G).values())\n",
        "\n",
        "# Plotting the average clustering coefficient of network G.\n",
        "print(f\"The average clustering coefficient of network G is: {np.mean(clustering_coefficients)}.\")"
      ],
      "metadata": {
        "id": "HeYT5HE5Ss6Z",
        "colab": {
          "base_uri": "https://localhost:8080/"
        },
        "outputId": "5f4f710c-c0e1-40a1-b69e-d2547be89c4a"
      },
      "execution_count": 13,
      "outputs": [
        {
          "output_type": "stream",
          "name": "stdout",
          "text": [
            "The average clustering coefficient of network G is: 0.19784841407184786.\n"
          ]
        }
      ]
    },
    {
      "cell_type": "code",
      "source": [
        "# Printing the maximum value of the clustering coefficient in G.\n",
        "print(f\"The maximum clustering coefficient value of G is: {np.max(clustering_coefficients)}.\")"
      ],
      "metadata": {
        "colab": {
          "base_uri": "https://localhost:8080/"
        },
        "id": "wDhjWOPsuOZS",
        "outputId": "2714c5e6-5b6f-4510-83fd-49892b7bd1f4"
      },
      "execution_count": 14,
      "outputs": [
        {
          "output_type": "stream",
          "name": "stdout",
          "text": [
            "The maximum clustering coefficient value of G is: 1.0.\n"
          ]
        }
      ]
    },
    {
      "cell_type": "code",
      "source": [
        "# Printing the minimum value of the clustering coefficient in G.\n",
        "print(f\"The minimum clustering coefficient value of G is: {np.min(clustering_coefficients)}.\")"
      ],
      "metadata": {
        "colab": {
          "base_uri": "https://localhost:8080/"
        },
        "id": "HJGrgqjSuSW-",
        "outputId": "65753100-5f4a-4757-fb0a-4faf0a97fad1"
      },
      "execution_count": 15,
      "outputs": [
        {
          "output_type": "stream",
          "name": "stdout",
          "text": [
            "The minimum clustering coefficient value of G is: 0.0.\n"
          ]
        }
      ]
    },
    {
      "cell_type": "code",
      "source": [
        "# Plotting the CDF of the clustering coefficients of G.\n",
        "plot(np.sort(clustering_coefficients), np.arange(len(clustering_coefficients)) / float(len(clustering_coefficients)) * 100, \"Clustering coefficient\", r\"Percentage (\\%)\", [0, 1], [0, 100], \"clustering_coefficients_CDF\")"
      ],
      "metadata": {
        "colab": {
          "base_uri": "https://localhost:8080/",
          "height": 291
        },
        "id": "drD0-IdTTwvb",
        "outputId": "03ac39f9-e6dc-421f-8028-5c4805e68f61"
      },
      "execution_count": 16,
      "outputs": [
        {
          "output_type": "display_data",
          "data": {
            "text/plain": [
              "<Figure size 432x288 with 1 Axes>"
            ],
            "image/png": "[encoded data removed]"
          },
          "metadata": {
            "needs_background": "light"
          }
        }
      ]
    },
    {
      "cell_type": "code",
      "source": [
        "# Plotting the distribution of clustering coefficients.\n",
        "fig, ax = plt.subplots(1, 1, figsize = (6, 4))\n",
        "ax.hist(clustering_coefficients , bins = 100)\n",
        "ax.set_xlabel(\"Clustering coefficient\")\n",
        "ax.set_ylabel(\"Counts\")\n",
        "fig.savefig(f\"clustering_coefficients_distribution.pdf\", bbox_inches = \"tight\")\n",
        "plt.show()"
      ],
      "metadata": {
        "colab": {
          "base_uri": "https://localhost:8080/",
          "height": 286
        },
        "id": "2CdvemHaozgl",
        "outputId": "c154dfa4-f1a5-424c-b66a-bab4d54ad618"
      },
      "execution_count": 17,
      "outputs": [
        {
          "output_type": "display_data",
          "data": {
            "text/plain": [
              "<Figure size 432x288 with 1 Axes>"
            ],
            "image/png": "[encoded data removed]"
          },
          "metadata": {
            "needs_background": "light"
          }
        }
      ]
    },
    {
      "cell_type": "code",
      "source": [
        "# Computing the list of nodes' pagerank.\n",
        "pageranks = list(nx.pagerank(G).values())\n",
        "\n",
        "# Plotting the average pagerank of network G.\n",
        "print(f\"The average pagerank of network G is: {np.mean(pageranks)}.\")"
      ],
      "metadata": {
        "colab": {
          "base_uri": "https://localhost:8080/"
        },
        "id": "3arYpV_dkYqR",
        "outputId": "4a19eecb-dc87-4e03-9ef7-5e016b4849df"
      },
      "execution_count": 18,
      "outputs": [
        {
          "output_type": "stream",
          "name": "stdout",
          "text": [
            "The average pagerank of network G is: 2.4851388695604847e-06.\n"
          ]
        }
      ]
    },
    {
      "cell_type": "code",
      "source": [
        "# Printing the maximum value of the pageranks in G.\n",
        "print(f\"The maximum pagerank value of G is: {np.max(pageranks)}.\")"
      ],
      "metadata": {
        "colab": {
          "base_uri": "https://localhost:8080/"
        },
        "id": "Kl1ib5PXusoK",
        "outputId": "bdf25627-ba75-485e-aebb-2106a902fdbb"
      },
      "execution_count": 19,
      "outputs": [
        {
          "output_type": "stream",
          "name": "stdout",
          "text": [
            "The maximum pagerank value of G is: 0.00010648911202899722.\n"
          ]
        }
      ]
    },
    {
      "cell_type": "code",
      "source": [
        "# Printing the minimum value of the pageranks in G.\n",
        "print(f\"The minimum pagerank value of G is: {np.min(pageranks)}.\")"
      ],
      "metadata": {
        "colab": {
          "base_uri": "https://localhost:8080/"
        },
        "id": "MWSqY8bRu4tk",
        "outputId": "827ab1b9-3b8b-4221-9138-e94cfca3563d"
      },
      "execution_count": 20,
      "outputs": [
        {
          "output_type": "stream",
          "name": "stdout",
          "text": [
            "The minimum pagerank value of G is: 6.455971825048254e-07.\n"
          ]
        }
      ]
    },
    {
      "cell_type": "code",
      "source": [
        "# Plotting the CDF of the clustering coefficients of G.\n",
        "plot(np.sort(pageranks), np.arange(len(pageranks)) / float(len(pageranks)) * 100, \"PageRank\", r\"Percentage (\\%)\", [0, 1e-5], [0, 100], \"pageranks_CDF\")"
      ],
      "metadata": {
        "colab": {
          "base_uri": "https://localhost:8080/",
          "height": 291
        },
        "id": "Ls-pPQEvuu8C",
        "outputId": "16c12920-c50b-4cce-ec71-d88da4a7b720"
      },
      "execution_count": 21,
      "outputs": [
        {
          "output_type": "display_data",
          "data": {
            "text/plain": [
              "<Figure size 432x288 with 1 Axes>"
            ],
            "image/png": "[encoded data removed]"
          },
          "metadata": {
            "needs_background": "light"
          }
        }
      ]
    },
    {
      "cell_type": "code",
      "source": [
        "# Plotting the distribution of pageranks.\n",
        "fig, ax = plt.subplots(1, 1, figsize = (6, 4))\n",
        "ax.hist(pageranks , bins = 100)\n",
        "ax.set_xlabel(\"PageRank\")\n",
        "ax.set_ylabel(\"Counts\")\n",
        "fig.savefig(f\"pageranks_distribution.pdf\", bbox_inches = \"tight\")\n",
        "plt.show()"
      ],
      "metadata": {
        "colab": {
          "base_uri": "https://localhost:8080/",
          "height": 287
        },
        "id": "L3Ug2qInsaae",
        "outputId": "99cc1b8f-ff0b-46c5-b430-b91d3364e0da"
      },
      "execution_count": 22,
      "outputs": [
        {
          "output_type": "display_data",
          "data": {
            "text/plain": [
              "<Figure size 432x288 with 1 Axes>"
            ],
            "image/png": "[encoded data removed]"
          },
          "metadata": {
            "needs_background": "light"
          }
        }
      ]
    },
    {
      "cell_type": "code",
      "source": [
        "# Computing and printing the density of the graph.\n",
        "print(f\"The density of G is: {nx.density(G)}.\")"
      ],
      "metadata": {
        "colab": {
          "base_uri": "https://localhost:8080/"
        },
        "id": "l7V52KmwlIeS",
        "outputId": "1408a684-06d6-4f97-a2e2-71b7cf9949b1"
      },
      "execution_count": 23,
      "outputs": [
        {
          "output_type": "stream",
          "name": "stdout",
          "text": [
            "The density of G is: 1.5242431280399412e-05.\n"
          ]
        }
      ]
    },
    {
      "cell_type": "code",
      "source": [
        "# Printing the number of connected components.\n",
        "print(f\"The number of connected connected components is: {nx.number_connected_components(G)}.\")"
      ],
      "metadata": {
        "colab": {
          "base_uri": "https://localhost:8080/"
        },
        "id": "VFCjk6rAEb4P",
        "outputId": "cbfeedce-fcf7-4789-c754-5b4974e32d1b"
      },
      "execution_count": 24,
      "outputs": [
        {
          "output_type": "stream",
          "name": "stdout",
          "text": [
            "The number of connected connected components is: 133159.\n"
          ]
        }
      ]
    },
    {
      "cell_type": "code",
      "source": [
        "# Computing all the connected components.\n",
        "cc = [c for c in sorted(nx.connected_components(G), key = len, reverse = True)]\n",
        "\n",
        "# Printing the size of the largest connected component.\n",
        "print(f\"The size of the largest connected component is: {len(cc[0])}.\")"
      ],
      "metadata": {
        "colab": {
          "base_uri": "https://localhost:8080/"
        },
        "id": "qoVAzYiLFyOR",
        "outputId": "bdff977c-d3bd-4aa8-8542-af50230fa80f"
      },
      "execution_count": 25,
      "outputs": [
        {
          "output_type": "stream",
          "name": "stdout",
          "text": [
            "The size of the largest connected component is: 258949.\n"
          ]
        }
      ]
    },
    {
      "cell_type": "code",
      "source": [
        "# Printing the size of the 2nd, 3rd, 4th and 5th connected component.\n",
        "print(f\"The 2nd to 5th largest connected components have {len(cc[1])}, {len(cc[2])}, {len(cc[3])}, and {len(cc[4])} nodes, respectively.\")"
      ],
      "metadata": {
        "colab": {
          "base_uri": "https://localhost:8080/"
        },
        "id": "-ukYjxQiGrKx",
        "outputId": "50d84158-dbdf-4126-b5e2-6391f8810349"
      },
      "execution_count": 26,
      "outputs": [
        {
          "output_type": "stream",
          "name": "stdout",
          "text": [
            "The 2nd to 5th largest connected components have 14, 14, 13, and 13 nodes, respectively.\n"
          ]
        }
      ]
    },
    {
      "cell_type": "code",
      "source": [
        "# Plotting the size of the first ten connected components.\n",
        "fig, ax = plt.subplots(1, 1, figsize = (6, 4))\n",
        "ax.set_xlabel(\"Top 10 connected components\")\n",
        "ax.set_ylabel(\"Component size\")\n",
        "ax.set_yscale(\"log\")\n",
        "ax.set_xticks(np.arange(0, 10, 1, dtype = int))\n",
        "ax.set_xticklabels([\"1st\", \"2nd\", \"3rd\", \"4th\", \"5th\", \"6th\", \"7th\", \"8th\", \"9th\", \"10th\"])\n",
        "ax.bar(np.arange(0, 10, 1, dtype = int), [len(c) for c in cc[:10]])\n",
        "fig.savefig(f\"components_size.pdf\", bbox_inches = \"tight\")\n",
        "plt.show()"
      ],
      "metadata": {
        "colab": {
          "base_uri": "https://localhost:8080/",
          "height": 286
        },
        "id": "oV8Bg1bVImfd",
        "outputId": "9824181a-4837-480d-e1b9-41230913cbfa"
      },
      "execution_count": 27,
      "outputs": [
        {
          "output_type": "display_data",
          "data": {
            "text/plain": [
              "<Figure size 432x288 with 1 Axes>"
            ],
            "image/png": "[encoded data removed]"
          },
          "metadata": {
            "needs_background": "light"
          }
        }
      ]
    },
    {
      "cell_type": "code",
      "source": [
        "# Printing the number of singletons.\n",
        "print(f\"Among all connected components, {sum(len(c) == 1 for c in cc)} of them are singletons.\")"
      ],
      "metadata": {
        "colab": {
          "base_uri": "https://localhost:8080/"
        },
        "id": "72eZ_h2hG_u_",
        "outputId": "a46d7f9b-d2ea-4eeb-ec6e-5d643e214283"
      },
      "execution_count": 28,
      "outputs": [
        {
          "output_type": "stream",
          "name": "stdout",
          "text": [
            "Among all connected components, 125318 of them are singletons.\n"
          ]
        }
      ]
    },
    {
      "cell_type": "code",
      "source": [
        "# Extracting the subgraph of G related to the largest connected component.\n",
        "H = G.subgraph(list(cc[0]))"
      ],
      "metadata": {
        "id": "Tpfy6AJXPiDq"
      },
      "execution_count": 29,
      "outputs": []
    },
    {
      "cell_type": "code",
      "source": [
        "%%time\n",
        "\n",
        "# Computing the first node's shortest path lengths.\n",
        "_ = next(nx.all_pairs_shortest_path_length(H))"
      ],
      "metadata": {
        "colab": {
          "base_uri": "https://localhost:8080/"
        },
        "id": "AtrMKUfORxYR",
        "outputId": "bdada75c-6db9-44b7-96d8-85e5148651bd"
      },
      "execution_count": 30,
      "outputs": [
        {
          "output_type": "stream",
          "name": "stdout",
          "text": [
            "CPU times: user 5.81 s, sys: 61.3 ms, total: 5.87 s\n",
            "Wall time: 5.89 s\n"
          ]
        }
      ]
    },
    {
      "cell_type": "code",
      "source": [
        "# Defining the shortest path lengths generator.\n",
        "generator = nx.all_pairs_shortest_path_length(H)\n",
        "\n",
        "# Temporary variable used to store the number of used nodes.\n",
        "n_nodes = 0\n",
        "\n",
        "# Temporary list of shortest path lengths.\n",
        "shortest_path_lengths = []\n",
        "\n",
        "# Number of seconds for which to compute the shortest path lengths.\n",
        "N_SECONDS = 600\n",
        "\n",
        "# Starting a timer.\n",
        "start = time.time()\n",
        "\n",
        "# Iterating over the first 20 nodes of H.\n",
        "while True:\n",
        "\n",
        "  # Checking the timer.\n",
        "  if time.time() - start >= N_SECONDS:\n",
        "\n",
        "    # Breaking the loop if N_SECONDS seconds have passed.\n",
        "    break\n",
        "\n",
        "  # Computing the next node's shortest path lengths.\n",
        "  path = next(generator)\n",
        "\n",
        "  # Updating the number of considered nodes.\n",
        "  n_nodes = n_nodes + 1\n",
        "\n",
        "  # Updating the list of shortest path lengths.\n",
        "  shortest_path_lengths.append(list(path[1].values()))\n",
        "\n",
        "# Printing the average shortest path.\n",
        "print(f\"The average shortest path length is {np.sum(shortest_path_lengths) / (n_nodes * (len(path[1].values()) - 1))}.\")"
      ],
      "metadata": {
        "colab": {
          "base_uri": "https://localhost:8080/"
        },
        "id": "qHp5WddpKgA7",
        "outputId": "bd1bb7d8-2dfe-497b-e42d-8f5efb1b6741"
      },
      "execution_count": 31,
      "outputs": [
        {
          "output_type": "stream",
          "name": "stdout",
          "text": [
            "The average shortest path length is 5.927856115656013.\n"
          ]
        }
      ]
    },
    {
      "cell_type": "code",
      "source": [
        "# Computing the unique values and their counts in shortest_path_lengths.\n",
        "lengths, counts = np.unique(shortest_path_lengths, return_counts = True) \n",
        "\n",
        "# Plotting the distribution of path lengths.\n",
        "plot(lengths, (counts / np.sum(counts)) * 100, \"Path length\", r\"Percentage (\\%)\", [0, 24], [0, 35], \"path_lengths_distribution\")"
      ],
      "metadata": {
        "colab": {
          "base_uri": "https://localhost:8080/",
          "height": 291
        },
        "id": "Rqaz8z_UYjhW",
        "outputId": "89539c84-72de-4b46-d20a-5d9af4f27a81"
      },
      "execution_count": 32,
      "outputs": [
        {
          "output_type": "display_data",
          "data": {
            "text/plain": [
              "<Figure size 432x288 with 1 Axes>"
            ],
            "image/png": "[encoded data removed]"
          },
          "metadata": {
            "needs_background": "light"
          }
        }
      ]
    },
    {
      "cell_type": "code",
      "source": [
        "# Computing the list of nodes' clustering coefficient.\n",
        "clustering_coefficients_H = list(nx.clustering(H).values())\n",
        "\n",
        "# Plotting the average clustering coefficient of network H.\n",
        "print(f\"The average clustering coefficient of network H is: {np.mean(clustering_coefficients_H)}.\")"
      ],
      "metadata": {
        "colab": {
          "base_uri": "https://localhost:8080/"
        },
        "id": "F4G8Uv84JrtW",
        "outputId": "62e024b7-eca7-4c5b-8b01-cc1ed6da6a8b"
      },
      "execution_count": 33,
      "outputs": [
        {
          "output_type": "stream",
          "name": "stdout",
          "text": [
            "The average clustering coefficient of network H is: 0.2992787087577181.\n"
          ]
        }
      ]
    },
    {
      "cell_type": "code",
      "source": [
        "# Computing the list containing each (node, degree) tuple.\n",
        "node_degree_list = list(G.degree())\n",
        "\n",
        "# Ordering (based on degree value, in descending order) the list containing each (node, degree) tuple.\n",
        "node_degree_list.sort(key = lambda x: x[1], reverse = True)\n",
        "\n",
        "# Defining the list containing the removal %s.\n",
        "percentages = [0.01, 0.1, 1, 5, 10, 20, 30]\n",
        "\n",
        "# Defining the list that will store the largest connected component %s.\n",
        "lcc_percentages = []\n",
        "\n",
        "# Defining the list that will store the singletons %s.\n",
        "singletons_percentages = []\n",
        "\n",
        "# Defining the list that will store the middle region %s.\n",
        "middle_region_percentages = []\n",
        "\n",
        "# Iterating over removal percentages.\n",
        "for i in range(len(percentages)):\n",
        "\n",
        "  # Creating a copy of G.\n",
        "  G_copy = G.copy()\n",
        "\n",
        "  # Computing the list of nodes to remove.\n",
        "  remove = [node for node, degree in node_degree_list[:int(len(node_degree_list) * percentages[i] / 100) + 1]]\n",
        "\n",
        "  # Removing the nodes.\n",
        "  G_copy.remove_nodes_from(remove)\n",
        "\n",
        "  # Computing the new number of nodes.\n",
        "  total_nodes = len(G_copy.nodes())\n",
        "\n",
        "  # Computing all the connected components.\n",
        "  cc = [c for c in sorted(nx.connected_components(G_copy), key = len, reverse = True)]\n",
        "\n",
        "  # Computing the number of singletons.\n",
        "  n_singletons = sum(len(c) == 1 for c in cc)\n",
        "\n",
        "  # Computing percentage of nodes in the largest connected component.\n",
        "  lcc_percentages.append(len(cc[0]) * 100 / total_nodes)\n",
        "\n",
        "  # Computing percentage of singletons.\n",
        "  singletons_percentages.append(n_singletons * 100 / total_nodes)\n",
        "\n",
        "  # Computing percentage of middle region.\n",
        "  middle_region_percentages.append(100 - lcc_percentages[i] - singletons_percentages[i])\n",
        "\n",
        "# Plotting the analysis of the graphs obtained by removing nodes.\n",
        "fig, ax = plt.subplots(1, 1, figsize = (6, 4))\n",
        "ax.set_xlabel(\"Fraction of network removed\")\n",
        "ax.set_ylabel(r\"Percentage (\\%)\")\n",
        "ax.set_xticks(np.arange(0, 7, 1, dtype = int))\n",
        "ax.set_xticklabels([r\"0.01\\%\", r\"0.1\\%\", r\"1\\%\", r\"5\\%\", r\"10\\%\", r\"20\\%\", r\"30\\%\"])\n",
        "ax.bar(np.arange(0, 7, 1, dtype = int), singletons_percentages, label = \"Singletons\")\n",
        "ax.bar(np.arange(0, 7, 1, dtype = int), middle_region_percentages, bottom = singletons_percentages, label = \"Middle region\")\n",
        "ax.bar(np.arange(0, 7, 1, dtype = int), lcc_percentages, bottom = np.array(singletons_percentages) + np.array(middle_region_percentages), label = \"LCC\")\n",
        "ax.legend(loc = \"upper left\")\n",
        "fig.savefig(f\"graphs_with_nodes_removed.pdf\", bbox_inches = \"tight\")\n",
        "plt.show()"
      ],
      "metadata": {
        "id": "68LQE5ZsLQny",
        "colab": {
          "base_uri": "https://localhost:8080/",
          "height": 286
        },
        "outputId": "811f7388-6d72-4083-c66a-393c9b882d5d"
      },
      "execution_count": 34,
      "outputs": [
        {
          "output_type": "display_data",
          "data": {
            "text/plain": [
              "<Figure size 432x288 with 1 Axes>"
            ],
            "image/png": "[encoded data removed]"
          },
          "metadata": {
            "needs_background": "light"
          }
        }
      ]
    },
    {
      "cell_type": "code",
      "source": [
        "# Dictionary containing academic titles key-value pairs.\n",
        "titles = {1: \"student\", 2: \"postdoc\", 3: \"professor\"}\n",
        "\n",
        "# Function which computes the analysis for a specific academic title.\n",
        "def analysis_for_specific_title(title):\n",
        "\n",
        "  # List of nodes of group i.\n",
        "  group = [node for node, data in list(G.nodes(data = True)) if data[\"academic_title\"] == title]\n",
        "\n",
        "  # Printing the average degree of group i.\n",
        "  print(f\"The average degree of group \\\"{titles[title]}\\\" is: {np.sum(np.array(degrees)[group]) / len(group)}.\")\n",
        "\n",
        "  # Printing the average clustering coefficient of group i.\n",
        "  print(f\"The average clustering coefficient of group \\\"{titles[title]}\\\" is: {np.sum(np.array(clustering_coefficients)[group]) / len(group)}.\")\n",
        "\n",
        "  # Printing the average pagerank of group i.\n",
        "  print(f\"The average pagerank of group \\\"{titles[title]}\\\" is: {np.sum(np.array(pageranks)[group]) / len(group)}.\")\n",
        "\n",
        "  # Computing the average h-index.\n",
        "  avg_h_index = np.sum([data[\"h_index\"] for node, data in list(G.nodes(data = True)) if data[\"academic_title\"] == title]) / len(group)\n",
        "\n",
        "  # Computing the average g-index.\n",
        "  avg_g_index = np.sum([data[\"g_index\"] for node, data in list(G.nodes(data = True)) if data[\"academic_title\"] == title]) / len(group)\n",
        "\n",
        "  # Printing the average h-index of group i.\n",
        "  print(f\"The average h-index of group \\\"{titles[title]}\\\" is: {avg_h_index}.\")\n",
        "\n",
        "  # Printing the average g-index of group i.\n",
        "  print(f\"The average g-index of group \\\"{titles[title]}\\\" is: {avg_g_index}.\")\n",
        "\n",
        "# Iterating over academic titles.\n",
        "for i in range(1, 4):\n",
        "\n",
        "  # Computing analysis for title i.\n",
        "  analysis_for_specific_title(i)"
      ],
      "metadata": {
        "colab": {
          "base_uri": "https://localhost:8080/"
        },
        "id": "Q4mHECVsHlP7",
        "outputId": "9ea0df3f-fb62-449f-f00b-6a7d4fd4ec68"
      },
      "execution_count": 35,
      "outputs": [
        {
          "output_type": "stream",
          "name": "stdout",
          "text": [
            "The average degree of group \"student\" is: 1.9396551724137931.\n",
            "The average clustering coefficient of group \"student\" is: 0.22375508944073466.\n",
            "The average pagerank of group \"student\" is: 1.3974213412141979e-06.\n",
            "The average h-index of group \"student\" is: 2.2187310949788266.\n",
            "The average g-index of group \"student\" is: 4.285276769509982.\n",
            "The average degree of group \"postdoc\" is: 4.687944421740907.\n",
            "The average clustering coefficient of group \"postdoc\" is: 0.27631312469655805.\n",
            "The average pagerank of group \"postdoc\" is: 2.1339253322511707e-06.\n",
            "The average h-index of group \"postdoc\" is: 6.139027380465876.\n",
            "The average g-index of group \"postdoc\" is: 12.65132815692685.\n",
            "The average degree of group \"professor\" is: 9.392989993781447.\n",
            "The average clustering coefficient of group \"professor\" is: 0.15992348887946675.\n",
            "The average pagerank of group \"professor\" is: 3.3144804473146906e-06.\n",
            "The average h-index of group \"professor\" is: 12.676601277630166.\n",
            "The average g-index of group \"professor\" is: 25.544179998869353.\n"
          ]
        }
      ]
    },
    {
      "cell_type": "code",
      "source": [
        "# Function which computes the analysis for a specific field of science.\n",
        "def analysis_for_specific_field(field):\n",
        "\n",
        "  # List of nodes of group \"field\".\n",
        "  group = [node for node, data in list(G.nodes(data = True)) if data[field] == 1]\n",
        "\n",
        "  # Printing the average degree of group \"field\".\n",
        "  print(f\"The average degree based on \\\"{field}\\\" is: {np.sum(np.array(degrees)[group]) / len(group)}.\")\n",
        "\n",
        "  # Printing the average clustering coefficient of group \"field\".\n",
        "  print(f\"The average clustering coefficient based on \\\"{field}\\\" is: {np.sum(np.array(clustering_coefficients)[group]) / len(group)}.\")\n",
        "\n",
        "  # Printing the average pagerank of group \"field\".\n",
        "  print(f\"The average pagerank based on \\\"{field}\\\" is: {np.sum(np.array(pageranks)[group]) / len(group)}.\")\n",
        "\n",
        "  # Computing the average h-index.\n",
        "  avg_h_index = np.sum([data[\"h_index\"] for node, data in list(G.nodes(data = True)) if data[field] == 1]) / len(group)\n",
        "\n",
        "  # Computing the average g-index.\n",
        "  avg_g_index = np.sum([data[\"g_index\"] for node, data in list(G.nodes(data = True)) if data[field] == 1]) / len(group)\n",
        "\n",
        "  # Printing the average h-index of group \"field\".\n",
        "  print(f\"The average h-index based on \\\"{field}\\\" is: {avg_h_index}.\")\n",
        "\n",
        "  # Printing the average g-index of group \"field\".\n",
        "  print(f\"The average g-index based on \\\"{field}\\\" is: {avg_g_index}.\")\n",
        "\n",
        "# Computing analysis for computer science.\n",
        "analysis_for_specific_field(\"computer_science_author\")\n",
        "\n",
        "# Computing analysis for biology.\n",
        "analysis_for_specific_field(\"biology_author\")"
      ],
      "metadata": {
        "colab": {
          "base_uri": "https://localhost:8080/"
        },
        "id": "suwyvev4ShmV",
        "outputId": "2797b191-38c5-450e-92de-60bab97482ed"
      },
      "execution_count": 36,
      "outputs": [
        {
          "output_type": "stream",
          "name": "stdout",
          "text": [
            "The average degree based on \"computer_science_author\" is: 8.541414555360028.\n",
            "The average clustering coefficient based on \"computer_science_author\" is: 0.23749568296282517.\n",
            "The average pagerank based on \"computer_science_author\" is: 2.823313517020209e-06.\n",
            "The average h-index based on \"computer_science_author\" is: 8.322614082877323.\n",
            "The average g-index based on \"computer_science_author\" is: 16.83349805944604.\n",
            "The average degree based on \"biology_author\" is: 7.795497869137091.\n",
            "The average clustering coefficient based on \"biology_author\" is: 0.2188148572758744.\n",
            "The average pagerank based on \"biology_author\" is: 2.853969392064543e-06.\n",
            "The average h-index based on \"biology_author\" is: 10.424035647940165.\n",
            "The average g-index based on \"biology_author\" is: 21.29087796408494.\n"
          ]
        }
      ]
    },
    {
      "cell_type": "code",
      "source": [
        "# Computing the list of total number of citations.\n",
        "total_number_of_citations = [data[\"total_number_of_citations\"] for node, data in list(G.nodes(data = True))]\n",
        "\n",
        "# Computing the list of h-indexes.\n",
        "h_indexes = [data[\"h_index\"] for node, data in list(G.nodes(data = True))]\n",
        "\n",
        "# Computing the list of g-indexes.\n",
        "g_indexes = [data[\"g_index\"] for node, data in list(G.nodes(data = True))]\n",
        "\n",
        "# Printing the Pearson correlation coefficients.\n",
        "print(f\"The Pearson correlation coefficient between total_number_of_citations and degrees is {stats.pearsonr(total_number_of_citations, degrees)[0]}.\")\n",
        "print(f\"The Pearson correlation coefficient between total_number_of_citations and clustering_coefficients is {stats.pearsonr(total_number_of_citations, clustering_coefficients)[0]}.\")\n",
        "print(f\"The Pearson correlation coefficient between total_number_of_citations and pageranks is {stats.pearsonr(total_number_of_citations, pageranks)[0]}.\")\n",
        "print(f\"The Pearson correlation coefficient between h_indexes and degrees is {stats.pearsonr(h_indexes, degrees)[0]}.\")\n",
        "print(f\"The Pearson correlation coefficient between h_indexes and clustering_coefficients is {stats.pearsonr(h_indexes, clustering_coefficients)[0]}.\")\n",
        "print(f\"The Pearson correlation coefficient between h_indexes and pageranks is {stats.pearsonr(h_indexes, pageranks)[0]}.\")\n",
        "print(f\"The Pearson correlation coefficient between g_indexes and degrees is {stats.pearsonr(g_indexes, degrees)[0]}.\")\n",
        "print(f\"The Pearson correlation coefficient between g_indexes and clustering_coefficients is {stats.pearsonr(g_indexes, clustering_coefficients)[0]}.\")\n",
        "print(f\"The Pearson correlation coefficient between g_indexes and pageranks is {stats.pearsonr(g_indexes, pageranks)[0]}.\")"
      ],
      "metadata": {
        "colab": {
          "base_uri": "https://localhost:8080/"
        },
        "id": "4op598xNZeLX",
        "outputId": "10b357e8-7589-4cdf-c2f3-925a58f18c97"
      },
      "execution_count": 37,
      "outputs": [
        {
          "output_type": "stream",
          "name": "stdout",
          "text": [
            "The Pearson correlation coefficient between total_number_of_citations and degrees is 0.5282246549685807.\n",
            "The Pearson correlation coefficient between total_number_of_citations and clustering_coefficients is -0.027465731381683865.\n",
            "The Pearson correlation coefficient between total_number_of_citations and pageranks is 0.5303918116000303.\n",
            "The Pearson correlation coefficient between h_indexes and degrees is 0.6785437418102267.\n",
            "The Pearson correlation coefficient between h_indexes and clustering_coefficients is 0.01637827921524193.\n",
            "The Pearson correlation coefficient between h_indexes and pageranks is 0.7280814186653497.\n",
            "The Pearson correlation coefficient between g_indexes and degrees is 0.6490288524338288.\n",
            "The Pearson correlation coefficient between g_indexes and clustering_coefficients is 0.021569904720877657.\n",
            "The Pearson correlation coefficient between g_indexes and pageranks is 0.6780007968789739.\n"
          ]
        }
      ]
    },
    {
      "cell_type": "code",
      "source": [
        "# Considering nodes with a defined academic title.\n",
        "nodes_with_title = [node for node, data in list(G.nodes(data = True)) if data[\"academic_title\"] == 1 or data[\"academic_title\"] == 2 or data[\"academic_title\"] == 3]\n",
        "\n",
        "# Computing and printing the assortatity coefficient based on attributes.\n",
        "print(\"The assortativity coefficient based on academic title is: {}.\".format(nx.numeric_assortativity_coefficient(G, \"academic_title\", nodes = nodes_with_title)))\n",
        "print(\"The assortativity coefficient based on h-index is: {}.\".format(nx.numeric_assortativity_coefficient(G, \"h_index\", nodes = nodes_with_title)))\n",
        "print(\"The assortativity coefficient based on g-index is: {}.\".format(nx.numeric_assortativity_coefficient(G, \"g_index\", nodes = nodes_with_title)))"
      ],
      "metadata": {
        "colab": {
          "base_uri": "https://localhost:8080/"
        },
        "id": "YkgrPbMmvSax",
        "outputId": "8112447b-49f6-4037-82e3-564729a8d9d3"
      },
      "execution_count": 40,
      "outputs": [
        {
          "output_type": "stream",
          "name": "stdout",
          "text": [
            "The assortativity coefficient based on academic title is: 0.16959266060251812.\n",
            "The assortativity coefficient based on h-index is: 0.20820993916117553.\n",
            "The assortativity coefficient based on g-index is: 0.24080875522508471.\n"
          ]
        }
      ]
    }
  ]
}