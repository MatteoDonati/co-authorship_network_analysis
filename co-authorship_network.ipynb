{
  "nbformat": 4,
  "nbformat_minor": 0,
  "metadata": {
    "colab": {
      "provenance": [],
      "collapsed_sections": []
    },
    "kernelspec": {
      "name": "python3",
      "display_name": "Python 3"
    },
    "language_info": {
      "name": "python"
    }
  },
  "cells": [
    {
      "cell_type": "code",
      "source": [
        "# Installing LaTeX.\n",
        "!sudo apt-get install dvipng texlive-latex-extra texlive-fonts-recommended cm-super"
      ],
      "metadata": {
        "id": "7cp3ZazugZql"
      },
      "execution_count": null,
      "outputs": []
    },
    {
      "cell_type": "code",
      "source": [
        "# Importing networkx.\n",
        "import networkx as nx\n",
        "\n",
        "# Importing statistics.\n",
        "import statistics\n",
        "\n",
        "# Importing numpy.\n",
        "import numpy as np\n",
        "\n",
        "# Importing pyplot.\n",
        "import matplotlib.pyplot as plt\n",
        "\n",
        "# Using TeX.\n",
        "plt.rc(\"text\", usetex = True)\n",
        "\n",
        "# Setting the font family.\n",
        "plt.rc(\"font\", family = \"serif\")\n",
        "\n",
        "# Setting the font size.\n",
        "plt.rcParams.update({\"font.size\": 15})\n",
        "\n",
        "# Using package amsmath.\n",
        "plt.rcParams[\"text.latex.preamble\"] = [r\"\\usepackage{amsmath}\"]"
      ],
      "metadata": {
        "id": "GLPEp1DUtuek"
      },
      "execution_count": 2,
      "outputs": []
    },
    {
      "cell_type": "code",
      "source": [
        "# Reading nodes file.\n",
        "with open(\"nodes.txt\") as f:\n",
        "    nodes = f.readlines()\n",
        "\n",
        "# Reading edges file.\n",
        "with open(\"edges.txt\") as f:\n",
        "    edges = f.readlines()\n",
        "\n",
        "# Reading nodes information file.\n",
        "with open(\"gs_info.txt\") as f:\n",
        "    info = f.readlines()\n",
        "\n",
        "# Casting nodes elements to integers.\n",
        "nodes = [eval(i) for i in nodes]\n",
        "\n",
        "# Casting edges elements to integer tuples.\n",
        "edges = [eval(i) for i in edges]\n",
        "\n",
        "# Replacing \" \" with \",\".\n",
        "info = [i.replace(\" \", \",\") for i in info]\n",
        "\n",
        "# Casting info elements to integer tuples.\n",
        "info = [eval(i) for i in info]\n",
        "\n",
        "# Creating the list of dictionaries containing the nodes attributes.\n",
        "info = [{\"id\": i[0], \"total_number_of_citations\": i[1], \"h_index\": i[2], \"g_index\": i[3], \"academic_title\": i[4], \"computer_science_author\": i[5], \"biology_author\": i[6], \"sociology_author\": i[7]} for i in info]"
      ],
      "metadata": {
        "id": "5DtxGlfAuq0l"
      },
      "execution_count": 3,
      "outputs": []
    },
    {
      "cell_type": "code",
      "source": [
        "# Creating the graph.\n",
        "G = nx.Graph()\n",
        "\n",
        "# Adding nodes.\n",
        "G.add_nodes_from(list(zip(nodes, info)))\n",
        "\n",
        "# Adding edges.\n",
        "G.add_edges_from(edges)\n",
        "\n",
        "# Printing the number of nodes and edges.\n",
        "G.number_of_nodes(), G.number_of_edges()"
      ],
      "metadata": {
        "id": "FfQ7FmAjv-I1",
        "colab": {
          "base_uri": "https://localhost:8080/"
        },
        "outputId": "638d20b6-c0ae-4d01-ac4e-8c00af8555dd"
      },
      "execution_count": 4,
      "outputs": [
        {
          "output_type": "execute_result",
          "data": {
            "text/plain": [
              "(402392, 1234019)"
            ]
          },
          "metadata": {},
          "execution_count": 4
        }
      ]
    },
    {
      "cell_type": "code",
      "source": [
        "# Auxiliary function used to plot measures.\n",
        "def plot(x, y, xlabel, ylabel, xlim, ylim, filename):\n",
        "  fig, ax = plt.subplots(1, 1, figsize = (6, 4))\n",
        "  ax.set_xlabel(xlabel)\n",
        "  ax.set_ylabel(ylabel)\n",
        "  ax.set_xlim(xlim)\n",
        "  ax.set_ylim(ylim)\n",
        "  ax.plot(x, y)\n",
        "  fig.savefig(f\"{filename}.pdf\", bbox_inches = \"tight\")\n",
        "  plt.show()"
      ],
      "metadata": {
        "id": "m8luyhD3QdL0"
      },
      "execution_count": 31,
      "outputs": []
    },
    {
      "cell_type": "code",
      "source": [
        "# Computing the list of nodes' degree.\n",
        "degrees = [degree for (node, degree) in G.degree()]\n",
        "\n",
        "# Plotting the average degree of network G.\n",
        "print(f\"The average degree of network G is: {sum(degrees) / len(degrees)}.\")"
      ],
      "metadata": {
        "id": "iuER2o8EHsg0",
        "colab": {
          "base_uri": "https://localhost:8080/"
        },
        "outputId": "5073502e-c9d9-46ac-ce48-a8707deede50"
      },
      "execution_count": 6,
      "outputs": [
        {
          "output_type": "stream",
          "name": "stdout",
          "text": [
            "The average degree of network G is: 6.1334171653512.\n"
          ]
        }
      ]
    },
    {
      "cell_type": "code",
      "source": [
        "# Plotting the median value of the degrees in G.\n",
        "print(f\"The median value of the degrees in G is: {statistics.median(degrees)}.\")"
      ],
      "metadata": {
        "colab": {
          "base_uri": "https://localhost:8080/"
        },
        "id": "cbBSL-WnMwvj",
        "outputId": "449da5c5-f813-49b3-bd08-f95d3784f9a9"
      },
      "execution_count": 7,
      "outputs": [
        {
          "output_type": "stream",
          "name": "stdout",
          "text": [
            "The median value of the degrees in G is: 2.0.\n"
          ]
        }
      ]
    },
    {
      "cell_type": "code",
      "source": [
        "# Plotting the CDF of the degrees of G.\n",
        "plot(np.sort(degrees), np.arange(len(degrees)) / float(len(degrees)) * 100, \"Degree\", r\"Percentage (\\%)\", [0, 100], [0, 100], \"CDF_degrees\")"
      ],
      "metadata": {
        "colab": {
          "base_uri": "https://localhost:8080/",
          "height": 291
        },
        "id": "OBTFQvpBOmn4",
        "outputId": "3ff05ca1-c302-45f3-9c23-481620fa8005"
      },
      "execution_count": 8,
      "outputs": [
        {
          "output_type": "display_data",
          "data": {
            "text/plain": [
              "<Figure size 432x288 with 1 Axes>"
            ],
            "image/png": "[encoded data removed]"
          },
          "metadata": {
            "needs_background": "light"
          }
        }
      ]
    },
    {
      "cell_type": "code",
      "source": [
        "# Computing the list of nodes' clustering coefficient.\n",
        "clustering_coefficients = list(nx.clustering(G).values())\n",
        "\n",
        "# Plotting the average clustering coefficient of network G.\n",
        "print(f\"The average clustering coefficient of network G is: {sum(clustering_coefficients) / len(clustering_coefficients)}.\")"
      ],
      "metadata": {
        "id": "HeYT5HE5Ss6Z",
        "colab": {
          "base_uri": "https://localhost:8080/"
        },
        "outputId": "f498f146-8464-410b-cd04-951a78f7a496"
      },
      "execution_count": 9,
      "outputs": [
        {
          "output_type": "stream",
          "name": "stdout",
          "text": [
            "The average clustering coefficient of network G is: 0.19784841407179343.\n"
          ]
        }
      ]
    },
    {
      "cell_type": "code",
      "source": [
        "# Plotting the CDF of the clustering coefficients of G.\n",
        "plot(np.sort(clustering_coefficients), np.arange(len(clustering_coefficients)) / float(len(clustering_coefficients)) * 100, \"Clustering coefficient\", r\"Percentage (\\%)\", [0, 1], [0, 100], \"CDF_clustering_coefficients\")"
      ],
      "metadata": {
        "colab": {
          "base_uri": "https://localhost:8080/",
          "height": 291
        },
        "id": "drD0-IdTTwvb",
        "outputId": "ffbb22d3-f344-4c90-d00f-b5b249355036"
      },
      "execution_count": 10,
      "outputs": [
        {
          "output_type": "display_data",
          "data": {
            "text/plain": [
              "<Figure size 432x288 with 1 Axes>"
            ],
            "image/png": "[encoded data removed]"
          },
          "metadata": {
            "needs_background": "light"
          }
        }
      ]
    },
    {
      "cell_type": "code",
      "source": [
        "# Computing the list of nodes' pagerank.\n",
        "pageranks = list(nx.pagerank(G).values())\n",
        "\n",
        "# Plotting the CDF of the clustering coefficients of G.\n",
        "plot(np.sort(pageranks), np.arange(len(pageranks)) / float(len(pageranks)) * 100, \"PageRank\", r\"Percentage (\\%)\", [0, 1e-5], [0, 100], \"CDF_pageranks\")"
      ],
      "metadata": {
        "colab": {
          "base_uri": "https://localhost:8080/",
          "height": 291
        },
        "id": "3arYpV_dkYqR",
        "outputId": "608a8c7f-af65-4f56-9589-32a895ddbbf2"
      },
      "execution_count": 11,
      "outputs": [
        {
          "output_type": "display_data",
          "data": {
            "text/plain": [
              "<Figure size 432x288 with 1 Axes>"
            ],
            "image/png": "[encoded data removed]"
          },
          "metadata": {
            "needs_background": "light"
          }
        }
      ]
    },
    {
      "cell_type": "code",
      "source": [
        "# Printing the number of connected components.\n",
        "print(f\"The number of connected connected components is: {nx.number_connected_components(G)}.\")"
      ],
      "metadata": {
        "colab": {
          "base_uri": "https://localhost:8080/"
        },
        "id": "VFCjk6rAEb4P",
        "outputId": "71059df9-059f-43d1-f118-6f499f30355b"
      },
      "execution_count": 13,
      "outputs": [
        {
          "output_type": "stream",
          "name": "stdout",
          "text": [
            "The number of connected connected components is: 133159\n"
          ]
        }
      ]
    },
    {
      "cell_type": "code",
      "source": [
        "# Computing all the connected components.\n",
        "cc = [c for c in sorted(nx.connected_components(G), key = len, reverse = True)]"
      ],
      "metadata": {
        "id": "qoVAzYiLFyOR"
      },
      "execution_count": 24,
      "outputs": []
    },
    {
      "cell_type": "code",
      "source": [
        "# Printing the size of the largest connected component.\n",
        "print(f\"The size of the largest connected component is: {len(cc[0])}.\")"
      ],
      "metadata": {
        "colab": {
          "base_uri": "https://localhost:8080/"
        },
        "id": "lIvx2W4NE1zo",
        "outputId": "c80ea853-82e4-475c-f1b6-ca43632352f2"
      },
      "execution_count": 27,
      "outputs": [
        {
          "output_type": "stream",
          "name": "stdout",
          "text": [
            "The size of the largest connected component is: 258949.\n"
          ]
        }
      ]
    },
    {
      "cell_type": "code",
      "source": [
        "# Printing the size of the 2nd, 3rd, 4th and 5th connected component.\n",
        "print(f\"The 2nd to 5th largest connected components have {len(cc[1])}, {len(cc[2])}, {len(cc[3])}, and {len(cc[4])} nodes, respectively.\")"
      ],
      "metadata": {
        "colab": {
          "base_uri": "https://localhost:8080/"
        },
        "id": "-ukYjxQiGrKx",
        "outputId": "51c54bf7-7ca9-4428-e176-c1fa720d11be"
      },
      "execution_count": 28,
      "outputs": [
        {
          "output_type": "stream",
          "name": "stdout",
          "text": [
            "The 2nd to 5th largest connected components have 14, 14, 13, and 13 nodes, respectively.\n"
          ]
        }
      ]
    },
    {
      "cell_type": "code",
      "source": [
        "# Plotting the size of the first ten connected components.\n",
        "fig, ax = plt.subplots(1, 1, figsize = (6, 4))\n",
        "ax.set_xlabel(\"Top 10 connected components\")\n",
        "ax.set_ylabel(\"Component size\")\n",
        "ax.set_yscale(\"log\")\n",
        "ax.set_xticks(np.arange(0, 10, 1, dtype = int))\n",
        "ax.set_xticklabels([\"1st\", \"2nd\", \"3rd\", \"4th\", \"5th\", \"6th\", \"7th\", \"8th\", \"9th\", \"10th\"])\n",
        "ax.bar(np.arange(0, 10, 1, dtype = int), [len(c) for c in cc[:10]])\n",
        "fig.savefig(f\"components_size.pdf\", bbox_inches = \"tight\")\n",
        "plt.show()"
      ],
      "metadata": {
        "colab": {
          "base_uri": "https://localhost:8080/",
          "height": 286
        },
        "id": "oV8Bg1bVImfd",
        "outputId": "3cd7236d-0b40-4e53-d28d-437c0b4115d2"
      },
      "execution_count": 58,
      "outputs": [
        {
          "output_type": "display_data",
          "data": {
            "text/plain": [
              "<Figure size 432x288 with 1 Axes>"
            ],
            "image/png": "[encoded data removed]"
          },
          "metadata": {
            "needs_background": "light"
          }
        }
      ]
    },
    {
      "cell_type": "code",
      "source": [
        "# Printing the number of singletons.\n",
        "print(f\"Among all connected components, {sum(len(c) == 1 for c in cc)} of them are singletons.\")"
      ],
      "metadata": {
        "colab": {
          "base_uri": "https://localhost:8080/"
        },
        "id": "72eZ_h2hG_u_",
        "outputId": "af5567b4-0e41-4731-d063-7d7dc7263d13"
      },
      "execution_count": 30,
      "outputs": [
        {
          "output_type": "stream",
          "name": "stdout",
          "text": [
            "Among all connected components, 125318 of them are singletons.\n"
          ]
        }
      ]
    },
    {
      "cell_type": "code",
      "source": [],
      "metadata": {
        "id": "Tpfy6AJXPiDq"
      },
      "execution_count": null,
      "outputs": []
    }
  ]
}