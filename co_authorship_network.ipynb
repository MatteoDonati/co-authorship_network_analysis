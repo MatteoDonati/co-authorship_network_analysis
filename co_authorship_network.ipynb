{
  "nbformat": 4,
  "nbformat_minor": 0,
  "metadata": {
    "colab": {
      "provenance": [],
      "collapsed_sections": [
        "Q8_NOtI51NpH",
        "k8wS4Jw_1g7T",
        "EyynSmLd2R8T",
        "aUr47IQ06a8j",
        "akOAmGnN7g8y"
      ]
    },
    "kernelspec": {
      "name": "python3",
      "display_name": "Python 3"
    },
    "language_info": {
      "name": "python"
    }
  },
  "cells": [
    {
      "cell_type": "markdown",
      "source": [
        "<center>\n",
        "    <h2>\n",
        "        Social Network Analysis\n",
        "    </h2>\n",
        "    <h3>\n",
        "        Building and Analyzing a Global Co-Authorship Network Using Google Scholar Data\n",
        "    </h3>\n",
        "</center>\n",
        "\n",
        "<br>\n",
        "\n",
        "<b>Student</b>: Matteo Donati <br>\n",
        "<b>Student ID.</b>: 0001032227 <br>\n",
        "<b>E-mail</b>: matteo.donati10@studio.unibo.it\n",
        "\n",
        "<br>"
      ],
      "metadata": {
        "id": "uJzr2iE10TJo"
      }
    },
    {
      "cell_type": "markdown",
      "source": [
        "This notebook is an implementation of the paper by Chen *et al*., (2017)<sup>[[1]](#references)</sup><sup>[[2]](#references)</sup>."
      ],
      "metadata": {
        "id": "MrZ3a27q8Hmh"
      }
    },
    {
      "cell_type": "markdown",
      "source": [
        "### Libraries"
      ],
      "metadata": {
        "id": "Q8_NOtI51NpH"
      }
    },
    {
      "cell_type": "code",
      "source": [
        "# Installing LaTeX.\n",
        "!sudo apt-get install dvipng texlive-latex-extra texlive-fonts-recommended cm-super"
      ],
      "metadata": {
        "colab": {
          "base_uri": "https://localhost:8080/"
        },
        "id": "7cp3ZazugZql",
        "outputId": "05bd4bc1-1bc0-4eb2-e632-ea8d1d886ea3"
      },
      "execution_count": 68,
      "outputs": [
        {
          "output_type": "stream",
          "name": "stdout",
          "text": [
            "Reading package lists... Done\n",
            "Building dependency tree       \n",
            "Reading state information... Done\n",
            "cm-super is already the newest version (0.3.4-11).\n",
            "dvipng is already the newest version (1.15-1).\n",
            "texlive-fonts-recommended is already the newest version (2017.20180305-1).\n",
            "texlive-latex-extra is already the newest version (2017.20180305-2).\n",
            "The following package was automatically installed and is no longer required:\n",
            "  libnvidia-common-460\n",
            "Use 'sudo apt autoremove' to remove it.\n",
            "0 upgraded, 0 newly installed, 0 to remove and 12 not upgraded.\n"
          ]
        }
      ]
    },
    {
      "cell_type": "code",
      "source": [
        "!git clone https://github.com/chenyang03/co-authorship-network"
      ],
      "metadata": {
        "colab": {
          "base_uri": "https://localhost:8080/"
        },
        "id": "DUevlEkdDx01",
        "outputId": "c23a4409-3be1-4ecf-faea-d7a81eee0f92"
      },
      "execution_count": 69,
      "outputs": [
        {
          "output_type": "stream",
          "name": "stdout",
          "text": [
            "fatal: destination path 'co-authorship-network' already exists and is not an empty directory.\n"
          ]
        }
      ]
    },
    {
      "cell_type": "code",
      "source": [
        "# Importing networkx.\n",
        "import networkx as nx\n",
        "\n",
        "# Importing numpy.\n",
        "import numpy as np\n",
        "\n",
        "# Importing pyplot.\n",
        "import matplotlib.pyplot as plt\n",
        "\n",
        "# Importing time.\n",
        "import time\n",
        "\n",
        "# Importing stats from scipy.\n",
        "from scipy import stats\n",
        "\n",
        "# Using TeX.\n",
        "plt.rc(\"text\", usetex = True)\n",
        "\n",
        "# Setting the font family.\n",
        "plt.rc(\"font\", family = \"serif\")\n",
        "\n",
        "# Setting the font size.\n",
        "plt.rcParams.update({\"font.size\": 15})\n",
        "\n",
        "# Using package amsmath.\n",
        "plt.rcParams[\"text.latex.preamble\"] = [r\"\\usepackage{amsmath}\"]"
      ],
      "metadata": {
        "id": "GLPEp1DUtuek"
      },
      "execution_count": 70,
      "outputs": []
    },
    {
      "cell_type": "markdown",
      "source": [
        "### Network Definition"
      ],
      "metadata": {
        "id": "k8wS4Jw_1g7T"
      }
    },
    {
      "cell_type": "markdown",
      "source": [
        "The network files are parsed and stored in specific lists."
      ],
      "metadata": {
        "id": "3JAvgzXH1_BR"
      }
    },
    {
      "cell_type": "code",
      "source": [
        "# Reading nodes file.\n",
        "with open(\"co-authorship-network/nodes.txt\") as f:\n",
        "    nodes = f.readlines()\n",
        "\n",
        "# Reading edges file.\n",
        "with open(\"co-authorship-network/edges.txt\") as f:\n",
        "    edges = f.readlines()\n",
        "\n",
        "# Reading nodes information file.\n",
        "with open(\"co-authorship-network/gs_info.txt\") as f:\n",
        "    info = f.readlines()\n",
        "\n",
        "# Casting nodes elements to integers.\n",
        "nodes = [eval(i) for i in nodes]\n",
        "\n",
        "# Casting edges elements to integer tuples.\n",
        "edges = [eval(i) for i in edges]\n",
        "\n",
        "# Replacing \" \" with \",\".\n",
        "info = [i.replace(\" \", \",\") for i in info]\n",
        "\n",
        "# Casting info elements to integer tuples.\n",
        "info = [eval(i) for i in info]\n",
        "\n",
        "# Creating the list of dictionaries containing the nodes attributes.\n",
        "info = [{\"id\": i[0], \"total_number_of_citations\": i[1], \"h_index\": i[2], \"g_index\": i[3], \"academic_title\": i[4], \"computer_science_author\": i[5], \"biology_author\": i[6], \"sociology_author\": i[7]} for i in info]"
      ],
      "metadata": {
        "id": "5DtxGlfAuq0l"
      },
      "execution_count": 71,
      "outputs": []
    },
    {
      "cell_type": "markdown",
      "source": [
        "The aforementioned lists are used to create a specific `Graph` object."
      ],
      "metadata": {
        "id": "JwUfYBmD2FhE"
      }
    },
    {
      "cell_type": "code",
      "source": [
        "# Creating the graph.\n",
        "G = nx.Graph()\n",
        "\n",
        "# Adding nodes.\n",
        "G.add_nodes_from(list(zip(nodes, info)))\n",
        "\n",
        "# Adding edges.\n",
        "G.add_edges_from(edges)\n",
        "\n",
        "# Printing the number of nodes and edges.\n",
        "G.number_of_nodes(), G.number_of_edges()"
      ],
      "metadata": {
        "id": "FfQ7FmAjv-I1",
        "colab": {
          "base_uri": "https://localhost:8080/"
        },
        "outputId": "0b54c965-6c9e-4f7f-c25a-ad05e91d8706"
      },
      "execution_count": 72,
      "outputs": [
        {
          "output_type": "execute_result",
          "data": {
            "text/plain": [
              "(402392, 1234019)"
            ]
          },
          "metadata": {},
          "execution_count": 72
        }
      ]
    },
    {
      "cell_type": "markdown",
      "source": [
        "### Network Analysis"
      ],
      "metadata": {
        "id": "EyynSmLd2R8T"
      }
    },
    {
      "cell_type": "code",
      "source": [
        "# Auxiliary function used to plot measures.\n",
        "def plot(x, y, xlabel, ylabel, xlim, ylim, filename):\n",
        "  fig, ax = plt.subplots(1, 1, figsize = (6, 4))\n",
        "  ax.set_xlabel(xlabel)\n",
        "  ax.set_ylabel(ylabel)\n",
        "  ax.set_xlim(xlim)\n",
        "  ax.set_ylim(ylim)\n",
        "  ax.plot(x, y)\n",
        "  fig.savefig(f\"{filename}.pdf\", bbox_inches = \"tight\")\n",
        "  plt.show()\n",
        "\n",
        "# Auxiliary function used to plot measures.\n",
        "def hist_plot(x, bins, xlabel, ylabel, filename):\n",
        "  fig, ax = plt.subplots(1, 1, figsize = (6, 4))\n",
        "  ax.hist(x, bins = bins)\n",
        "  ax.set_xlabel(xlabel)\n",
        "  ax.set_ylabel(ylabel)\n",
        "  fig.savefig(f\"{filename}.pdf\", bbox_inches = \"tight\")\n",
        "  plt.show()"
      ],
      "metadata": {
        "id": "m8luyhD3QdL0"
      },
      "execution_count": 73,
      "outputs": []
    },
    {
      "cell_type": "markdown",
      "source": [
        "The density of the network is computed."
      ],
      "metadata": {
        "id": "mtK_JWve3skf"
      }
    },
    {
      "cell_type": "code",
      "source": [
        "# Computing and printing the density of the graph.\n",
        "print(f\"The density of G is: {nx.density(G)}.\")"
      ],
      "metadata": {
        "colab": {
          "base_uri": "https://localhost:8080/"
        },
        "id": "l7V52KmwlIeS",
        "outputId": "dbeb55b2-72e6-476d-e510-7f994ab2c8ab"
      },
      "execution_count": 74,
      "outputs": [
        {
          "output_type": "stream",
          "name": "stdout",
          "text": [
            "The density of G is: 1.5242431280399412e-05.\n"
          ]
        }
      ]
    },
    {
      "cell_type": "markdown",
      "source": [
        "The degree of each node in the network is computed."
      ],
      "metadata": {
        "id": "YR1RSGzR2p0I"
      }
    },
    {
      "cell_type": "code",
      "source": [
        "# Computing the list of nodes' degree.\n",
        "degrees = [degree for (node, degree) in G.degree()]\n",
        "\n",
        "# Printing the average degree of network G.\n",
        "print(f\"The average degree of network G is: {np.mean(degrees)}.\")"
      ],
      "metadata": {
        "id": "iuER2o8EHsg0",
        "colab": {
          "base_uri": "https://localhost:8080/"
        },
        "outputId": "3d6d0eaa-bfb7-4484-efa0-e3ffac2377ff"
      },
      "execution_count": 75,
      "outputs": [
        {
          "output_type": "stream",
          "name": "stdout",
          "text": [
            "The average degree of network G is: 6.1334171653512.\n"
          ]
        }
      ]
    },
    {
      "cell_type": "code",
      "source": [
        "# Printing the median value of the degrees in G.\n",
        "print(f\"The median value of the degrees in G is: {np.median(degrees)}.\")"
      ],
      "metadata": {
        "colab": {
          "base_uri": "https://localhost:8080/"
        },
        "id": "cbBSL-WnMwvj",
        "outputId": "4add38f5-45b9-4639-cb30-103a75d32145"
      },
      "execution_count": 76,
      "outputs": [
        {
          "output_type": "stream",
          "name": "stdout",
          "text": [
            "The median value of the degrees in G is: 2.0.\n"
          ]
        }
      ]
    },
    {
      "cell_type": "code",
      "source": [
        "# Printing the maximum value of the degrees in G.\n",
        "print(f\"The maximum degree value of G is: {np.max(degrees)}.\")"
      ],
      "metadata": {
        "colab": {
          "base_uri": "https://localhost:8080/"
        },
        "id": "G3fnbbcQm6Lv",
        "outputId": "5e2a5a87-6cb2-45ed-b108-1c2e65391b16"
      },
      "execution_count": 77,
      "outputs": [
        {
          "output_type": "stream",
          "name": "stdout",
          "text": [
            "The maximum degree value of G is: 463.\n"
          ]
        }
      ]
    },
    {
      "cell_type": "code",
      "source": [
        "# Printing the minimum value of the degrees in G.\n",
        "print(f\"The minimum degree value of G is: {np.min(degrees)}.\")"
      ],
      "metadata": {
        "colab": {
          "base_uri": "https://localhost:8080/"
        },
        "id": "JGf1OkxpnBgG",
        "outputId": "7814e54d-c40d-42b7-e727-1d5d318db9af"
      },
      "execution_count": 78,
      "outputs": [
        {
          "output_type": "stream",
          "name": "stdout",
          "text": [
            "The minimum degree value of G is: 0.\n"
          ]
        }
      ]
    },
    {
      "cell_type": "markdown",
      "source": [
        "Both the cumulative distribution function, as well as the probability distribution of the degrees of the network are plotted."
      ],
      "metadata": {
        "id": "MbJsLiNK2-v8"
      }
    },
    {
      "cell_type": "code",
      "source": [
        "# Plotting the CDF of the degrees of G.\n",
        "plot(np.sort(degrees), np.arange(len(degrees)) / float(len(degrees)) * 100, \"Degree\", r\"Percentage (\\%)\", [0, 100], [0, 100], \"degrees_CDF\")"
      ],
      "metadata": {
        "colab": {
          "base_uri": "https://localhost:8080/",
          "height": 291
        },
        "id": "OBTFQvpBOmn4",
        "outputId": "0ff54a1e-1694-4f13-d38b-3fd90d3e5d31"
      },
      "execution_count": 79,
      "outputs": [
        {
          "output_type": "display_data",
          "data": {
            "text/plain": [
              "<Figure size 432x288 with 1 Axes>"
            ],
            "image/png": "[encoded data removed]"
          },
          "metadata": {
            "needs_background": "light"
          }
        }
      ]
    },
    {
      "cell_type": "code",
      "source": [
        "# Plotting the distribution of degrees.\n",
        "hist_plot(degrees, 100, \"Degree\", \"Count\", \"degrees_distribution\")"
      ],
      "metadata": {
        "colab": {
          "base_uri": "https://localhost:8080/",
          "height": 286
        },
        "id": "_Rq-IZDCl-Sc",
        "outputId": "dabcd7eb-a1c6-4af3-b548-0300691178d3"
      },
      "execution_count": 80,
      "outputs": [
        {
          "output_type": "display_data",
          "data": {
            "text/plain": [
              "<Figure size 432x288 with 1 Axes>"
            ],
            "image/png": "[encoded data removed]"
          },
          "metadata": {
            "needs_background": "light"
          }
        }
      ]
    },
    {
      "cell_type": "markdown",
      "source": [
        "The clustering coefficient of each node in the network is computed."
      ],
      "metadata": {
        "id": "KZyLwucY3Mzx"
      }
    },
    {
      "cell_type": "code",
      "source": [
        "# Computing the list of nodes' clustering coefficient.\n",
        "clustering_coefficients = list(nx.clustering(G).values())\n",
        "\n",
        "# Plotting the average clustering coefficient of network G.\n",
        "print(f\"The average clustering coefficient of network G is: {np.mean(clustering_coefficients)}.\")"
      ],
      "metadata": {
        "id": "HeYT5HE5Ss6Z",
        "colab": {
          "base_uri": "https://localhost:8080/"
        },
        "outputId": "3f145a8b-07ee-477a-df3b-1f67c5dfa447"
      },
      "execution_count": 81,
      "outputs": [
        {
          "output_type": "stream",
          "name": "stdout",
          "text": [
            "The average clustering coefficient of network G is: 0.19784841407184786.\n"
          ]
        }
      ]
    },
    {
      "cell_type": "code",
      "source": [
        "# Printing the maximum value of the clustering coefficient in G.\n",
        "print(f\"The maximum clustering coefficient value of G is: {np.max(clustering_coefficients)}.\")"
      ],
      "metadata": {
        "colab": {
          "base_uri": "https://localhost:8080/"
        },
        "id": "wDhjWOPsuOZS",
        "outputId": "85eff3ec-4286-4c0f-8b9a-2b53167c8d9a"
      },
      "execution_count": 82,
      "outputs": [
        {
          "output_type": "stream",
          "name": "stdout",
          "text": [
            "The maximum clustering coefficient value of G is: 1.0.\n"
          ]
        }
      ]
    },
    {
      "cell_type": "code",
      "source": [
        "# Printing the minimum value of the clustering coefficient in G.\n",
        "print(f\"The minimum clustering coefficient value of G is: {np.min(clustering_coefficients)}.\")"
      ],
      "metadata": {
        "colab": {
          "base_uri": "https://localhost:8080/"
        },
        "id": "HJGrgqjSuSW-",
        "outputId": "009c434d-0d6e-464d-ae10-0b088ca07002"
      },
      "execution_count": 83,
      "outputs": [
        {
          "output_type": "stream",
          "name": "stdout",
          "text": [
            "The minimum clustering coefficient value of G is: 0.0.\n"
          ]
        }
      ]
    },
    {
      "cell_type": "markdown",
      "source": [
        "Both the cumulative distribution function, as well as the probability distribution of the clustering coefficients of the network are plotted."
      ],
      "metadata": {
        "id": "i04B_5CV3VuH"
      }
    },
    {
      "cell_type": "code",
      "source": [
        "# Plotting the CDF of the clustering coefficients of G.\n",
        "plot(np.sort(clustering_coefficients), np.arange(len(clustering_coefficients)) / float(len(clustering_coefficients)) * 100, \"Clustering coefficient\", r\"Percentage (\\%)\", [0, 1], [0, 100], \"clustering_coefficients_CDF\")"
      ],
      "metadata": {
        "colab": {
          "base_uri": "https://localhost:8080/",
          "height": 291
        },
        "id": "drD0-IdTTwvb",
        "outputId": "a5410f52-cd41-4928-f569-f75ecc030a59"
      },
      "execution_count": 84,
      "outputs": [
        {
          "output_type": "display_data",
          "data": {
            "text/plain": [
              "<Figure size 432x288 with 1 Axes>"
            ],
            "image/png": "[encoded data removed]"
          },
          "metadata": {
            "needs_background": "light"
          }
        }
      ]
    },
    {
      "cell_type": "code",
      "source": [
        "# Plotting the distribution of clustering_coefficients.\n",
        "hist_plot(clustering_coefficients, 100, \"Clustering coefficient\", \"Count\", \"clustering_coefficients_distribution\")"
      ],
      "metadata": {
        "colab": {
          "base_uri": "https://localhost:8080/",
          "height": 286
        },
        "id": "2CdvemHaozgl",
        "outputId": "69be34db-8f5b-48af-9e2c-0840ec15e457"
      },
      "execution_count": 85,
      "outputs": [
        {
          "output_type": "display_data",
          "data": {
            "text/plain": [
              "<Figure size 432x288 with 1 Axes>"
            ],
            "image/png": "[encoded data removed]"
          },
          "metadata": {
            "needs_background": "light"
          }
        }
      ]
    },
    {
      "cell_type": "markdown",
      "source": [
        "The PageRank of each node in the network is computed."
      ],
      "metadata": {
        "id": "eMOsB9663h8B"
      }
    },
    {
      "cell_type": "code",
      "source": [
        "# Computing the list of nodes' pagerank.\n",
        "pageranks = list(nx.pagerank(G).values())\n",
        "\n",
        "# Plotting the average pagerank of network G.\n",
        "print(f\"The average PageRank of network G is: {np.mean(pageranks)}.\")"
      ],
      "metadata": {
        "colab": {
          "base_uri": "https://localhost:8080/"
        },
        "id": "3arYpV_dkYqR",
        "outputId": "04374c44-0f3b-4708-f65f-173c5a4eb491"
      },
      "execution_count": 86,
      "outputs": [
        {
          "output_type": "stream",
          "name": "stdout",
          "text": [
            "The average PageRank of network G is: 2.4851388695604847e-06.\n"
          ]
        }
      ]
    },
    {
      "cell_type": "code",
      "source": [
        "# Printing the maximum value of the pageranks in G.\n",
        "print(f\"The maximum PageRank value of G is: {np.max(pageranks)}.\")"
      ],
      "metadata": {
        "colab": {
          "base_uri": "https://localhost:8080/"
        },
        "id": "Kl1ib5PXusoK",
        "outputId": "6469b913-2f33-4d86-a385-14eb6890871c"
      },
      "execution_count": 87,
      "outputs": [
        {
          "output_type": "stream",
          "name": "stdout",
          "text": [
            "The maximum PageRank value of G is: 0.00010648911202899722.\n"
          ]
        }
      ]
    },
    {
      "cell_type": "code",
      "source": [
        "# Printing the minimum value of the pageranks in G.\n",
        "print(f\"The minimum RageRank value of G is: {np.min(pageranks)}.\")"
      ],
      "metadata": {
        "colab": {
          "base_uri": "https://localhost:8080/"
        },
        "id": "MWSqY8bRu4tk",
        "outputId": "ef058347-18b6-4439-ccb2-b96c187dc72a"
      },
      "execution_count": 88,
      "outputs": [
        {
          "output_type": "stream",
          "name": "stdout",
          "text": [
            "The minimum RageRank value of G is: 6.455971825048254e-07.\n"
          ]
        }
      ]
    },
    {
      "cell_type": "markdown",
      "source": [
        "Both the cumulative distribution function, as well as the probability distribution of the PageRanks of the network are plotted."
      ],
      "metadata": {
        "id": "7kZaxzrZ3axK"
      }
    },
    {
      "cell_type": "code",
      "source": [
        "# Plotting the CDF of the clustering coefficients of G.\n",
        "plot(np.sort(pageranks), np.arange(len(pageranks)) / float(len(pageranks)) * 100, \"PageRank\", r\"Percentage (\\%)\", [0, 1e-5], [0, 100], \"pageranks_CDF\")"
      ],
      "metadata": {
        "colab": {
          "base_uri": "https://localhost:8080/",
          "height": 291
        },
        "id": "Ls-pPQEvuu8C",
        "outputId": "20ee4d95-bcf5-42ab-d9a7-b162e4aacc56"
      },
      "execution_count": 89,
      "outputs": [
        {
          "output_type": "display_data",
          "data": {
            "text/plain": [
              "<Figure size 432x288 with 1 Axes>"
            ],
            "image/png": "[encoded data removed]"
          },
          "metadata": {
            "needs_background": "light"
          }
        }
      ]
    },
    {
      "cell_type": "code",
      "source": [
        "# Plotting the distribution of pageranks.\n",
        "hist_plot(pageranks, 100, \"PageRank\", \"Count\", \"pageranks_distribution\")"
      ],
      "metadata": {
        "colab": {
          "base_uri": "https://localhost:8080/",
          "height": 287
        },
        "id": "L3Ug2qInsaae",
        "outputId": "53f9289a-b381-456a-8d8d-2716e73f798f"
      },
      "execution_count": 90,
      "outputs": [
        {
          "output_type": "display_data",
          "data": {
            "text/plain": [
              "<Figure size 432x288 with 1 Axes>"
            ],
            "image/png": "[encoded data removed]"
          },
          "metadata": {
            "needs_background": "light"
          }
        }
      ]
    },
    {
      "cell_type": "markdown",
      "source": [
        "The connected components of the network are computed and analysed."
      ],
      "metadata": {
        "id": "wlhmfTnx38l7"
      }
    },
    {
      "cell_type": "code",
      "source": [
        "# Printing the number of connected components.\n",
        "print(f\"The number of connected connected components is: {nx.number_connected_components(G)}.\")"
      ],
      "metadata": {
        "colab": {
          "base_uri": "https://localhost:8080/"
        },
        "id": "VFCjk6rAEb4P",
        "outputId": "b19d5a5c-b00d-487d-de92-8bff6971c88c"
      },
      "execution_count": 91,
      "outputs": [
        {
          "output_type": "stream",
          "name": "stdout",
          "text": [
            "The number of connected connected components is: 133159.\n"
          ]
        }
      ]
    },
    {
      "cell_type": "code",
      "source": [
        "# Computing all the connected components.\n",
        "cc = [c for c in sorted(nx.connected_components(G), key = len, reverse = True)]\n",
        "\n",
        "# Printing the size of the largest connected component.\n",
        "print(f\"The size of the largest connected component is: {len(cc[0])}.\")"
      ],
      "metadata": {
        "colab": {
          "base_uri": "https://localhost:8080/"
        },
        "id": "qoVAzYiLFyOR",
        "outputId": "2c28c25f-a32e-493e-aa88-fae2017ed519"
      },
      "execution_count": 92,
      "outputs": [
        {
          "output_type": "stream",
          "name": "stdout",
          "text": [
            "The size of the largest connected component is: 258949.\n"
          ]
        }
      ]
    },
    {
      "cell_type": "code",
      "source": [
        "# Printing the size of the 2nd, 3rd, 4th and 5th connected component.\n",
        "print(f\"The 2nd to 5th largest connected components have {len(cc[1])}, {len(cc[2])}, {len(cc[3])}, and {len(cc[4])} nodes, respectively.\")"
      ],
      "metadata": {
        "colab": {
          "base_uri": "https://localhost:8080/"
        },
        "id": "-ukYjxQiGrKx",
        "outputId": "d4935d21-e8ed-40a5-dcae-868cf11184d1"
      },
      "execution_count": 93,
      "outputs": [
        {
          "output_type": "stream",
          "name": "stdout",
          "text": [
            "The 2nd to 5th largest connected components have 14, 14, 13, and 13 nodes, respectively.\n"
          ]
        }
      ]
    },
    {
      "cell_type": "code",
      "source": [
        "# Plotting the size of the first ten connected components.\n",
        "fig, ax = plt.subplots(1, 1, figsize = (6, 4))\n",
        "ax.set_xlabel(\"Top 10 connected components\")\n",
        "ax.set_ylabel(\"Component size\")\n",
        "ax.set_yscale(\"log\")\n",
        "ax.set_xticks(np.arange(0, 10, 1, dtype = int))\n",
        "ax.set_xticklabels([\"1st\", \"2nd\", \"3rd\", \"4th\", \"5th\", \"6th\", \"7th\", \"8th\", \"9th\", \"10th\"])\n",
        "ax.bar(np.arange(0, 10, 1, dtype = int), [len(c) for c in cc[:10]])\n",
        "fig.savefig(f\"components_size.pdf\", bbox_inches = \"tight\")\n",
        "plt.show()"
      ],
      "metadata": {
        "colab": {
          "base_uri": "https://localhost:8080/",
          "height": 286
        },
        "id": "oV8Bg1bVImfd",
        "outputId": "6257a233-9f2f-47aa-fd5f-ee07649a9e63"
      },
      "execution_count": 94,
      "outputs": [
        {
          "output_type": "display_data",
          "data": {
            "text/plain": [
              "<Figure size 432x288 with 1 Axes>"
            ],
            "image/png": "[encoded data removed]"
          },
          "metadata": {
            "needs_background": "light"
          }
        }
      ]
    },
    {
      "cell_type": "code",
      "source": [
        "# Printing the number of singletons.\n",
        "print(f\"Among all connected components, {sum(len(c) == 1 for c in cc)} of them are singletons.\")"
      ],
      "metadata": {
        "colab": {
          "base_uri": "https://localhost:8080/"
        },
        "id": "72eZ_h2hG_u_",
        "outputId": "ca0e0394-8fe0-4c5e-ebcc-4a531acdb884"
      },
      "execution_count": 95,
      "outputs": [
        {
          "output_type": "stream",
          "name": "stdout",
          "text": [
            "Among all connected components, 125318 of them are singletons.\n"
          ]
        }
      ]
    },
    {
      "cell_type": "markdown",
      "source": [
        "A new `Graph` object is created by considering the largest connected component only."
      ],
      "metadata": {
        "id": "BlI_bb6p4KHZ"
      }
    },
    {
      "cell_type": "code",
      "source": [
        "# Extracting the subgraph of G related to the largest connected component.\n",
        "H = G.subgraph(list(cc[0]))"
      ],
      "metadata": {
        "id": "Tpfy6AJXPiDq"
      },
      "execution_count": 96,
      "outputs": []
    },
    {
      "cell_type": "markdown",
      "source": [
        "Being `H` a large network, computing the shortest path between all pairs of nodes is computationally expensive."
      ],
      "metadata": {
        "id": "Ct4sU8pX4YDO"
      }
    },
    {
      "cell_type": "code",
      "source": [
        "%%time\n",
        "\n",
        "# Computing the first node's shortest path lengths.\n",
        "_ = next(nx.all_pairs_shortest_path_length(H))"
      ],
      "metadata": {
        "colab": {
          "base_uri": "https://localhost:8080/"
        },
        "id": "AtrMKUfORxYR",
        "outputId": "2272c252-5c49-4fde-b391-505b406b9773"
      },
      "execution_count": 97,
      "outputs": [
        {
          "output_type": "stream",
          "name": "stdout",
          "text": [
            "CPU times: user 4.65 s, sys: 151 ms, total: 4.8 s\n",
            "Wall time: 4.81 s\n"
          ]
        }
      ]
    },
    {
      "cell_type": "markdown",
      "source": [
        "Therefore, in order to compute the average shortest path between any pair of nodes, sampling techniques will be adopted. In particular, the following cell of code computes the shortest path of the first nodes in `H`. The number of considered nodes is determined by the `N_SECONDS` variable, which defines for how long the `while` loop has to be iterated. Fortunately enough, the average shortest path computed using sampling approximates very well the real value ($5.96$)."
      ],
      "metadata": {
        "id": "c8f3e4vy4pTs"
      }
    },
    {
      "cell_type": "code",
      "source": [
        "# Defining the shortest path lengths generator.\n",
        "generator = nx.all_pairs_shortest_path_length(H)\n",
        "\n",
        "# Temporary variable used to store the number of used nodes.\n",
        "n_nodes = 0\n",
        "\n",
        "# Temporary list of shortest path lengths.\n",
        "shortest_path_lengths = []\n",
        "\n",
        "# Number of seconds for which to compute the shortest path lengths.\n",
        "N_SECONDS = 600\n",
        "\n",
        "# Starting a timer.\n",
        "start = time.time()\n",
        "\n",
        "# Iterating over the first 20 nodes of H.\n",
        "while True:\n",
        "\n",
        "  # Checking the timer.\n",
        "  if time.time() - start >= N_SECONDS:\n",
        "\n",
        "    # Breaking the loop if N_SECONDS seconds have passed.\n",
        "    break\n",
        "\n",
        "  # Computing the next node's shortest path lengths.\n",
        "  path = next(generator)\n",
        "\n",
        "  # Updating the number of considered nodes.\n",
        "  n_nodes = n_nodes + 1\n",
        "\n",
        "  # Updating the list of shortest path lengths.\n",
        "  shortest_path_lengths.append(list(path[1].values()))\n",
        "\n",
        "# Printing the average shortest path.\n",
        "print(f\"The average shortest path length is {np.sum(shortest_path_lengths) / (n_nodes * (len(path[1].values()) - 1))}.\")"
      ],
      "metadata": {
        "colab": {
          "base_uri": "https://localhost:8080/"
        },
        "id": "qHp5WddpKgA7",
        "outputId": "2a91c800-1e5e-41c0-976b-7f250c1fc8b6"
      },
      "execution_count": 98,
      "outputs": [
        {
          "output_type": "stream",
          "name": "stdout",
          "text": [
            "The average shortest path length is 5.896934555957077.\n"
          ]
        }
      ]
    },
    {
      "cell_type": "code",
      "source": [
        "# Computing the unique values and their counts in shortest_path_lengths.\n",
        "lengths, counts = np.unique(shortest_path_lengths, return_counts = True) \n",
        "\n",
        "# Plotting the distribution of path lengths.\n",
        "plot(lengths, (counts / np.sum(counts)) * 100, \"Path length\", r\"Percentage (\\%)\", [0, 24], [0, 35], \"path_lengths_distribution\")"
      ],
      "metadata": {
        "colab": {
          "base_uri": "https://localhost:8080/",
          "height": 291
        },
        "id": "Rqaz8z_UYjhW",
        "outputId": "cbc44e6d-822e-41e9-ef79-1d5734aaee2b"
      },
      "execution_count": 106,
      "outputs": [
        {
          "output_type": "display_data",
          "data": {
            "text/plain": [
              "<Figure size 432x288 with 1 Axes>"
            ],
            "image/png": "[encoded data removed]"
          },
          "metadata": {
            "needs_background": "light"
          }
        }
      ]
    },
    {
      "cell_type": "code",
      "source": [
        "# Computing the list of nodes' clustering coefficient.\n",
        "clustering_coefficients_H = list(nx.clustering(H).values())\n",
        "\n",
        "# Plotting the average clustering coefficient of network H.\n",
        "print(f\"The average clustering coefficient of network H is: {np.mean(clustering_coefficients_H)}.\")"
      ],
      "metadata": {
        "colab": {
          "base_uri": "https://localhost:8080/"
        },
        "id": "F4G8Uv84JrtW",
        "outputId": "67f7c2e5-c81b-4971-94ea-e54151abbbda"
      },
      "execution_count": 100,
      "outputs": [
        {
          "output_type": "stream",
          "name": "stdout",
          "text": [
            "The average clustering coefficient of network H is: 0.2992787087577181.\n"
          ]
        }
      ]
    },
    {
      "cell_type": "markdown",
      "source": [
        "The robustness of the network is tested by removing specific percentages of high-degree nodes from the original network, and then by analysing the connected components of the remaining network."
      ],
      "metadata": {
        "id": "SAF2TG9C5pWF"
      }
    },
    {
      "cell_type": "code",
      "source": [
        "# Computing the list containing each (node, degree) tuple.\n",
        "node_degree_list = list(G.degree())\n",
        "\n",
        "# Ordering (based on degree value, in descending order) the list containing each (node, degree) tuple.\n",
        "node_degree_list.sort(key = lambda x: x[1], reverse = True)\n",
        "\n",
        "# Defining the list containing the removal %s.\n",
        "percentages = [0.01, 0.1, 1, 5, 10, 20, 30]\n",
        "\n",
        "# Defining the list that will store the largest connected component %s.\n",
        "lcc_percentages = []\n",
        "\n",
        "# Defining the list that will store the singletons %s.\n",
        "singletons_percentages = []\n",
        "\n",
        "# Defining the list that will store the middle region %s.\n",
        "middle_region_percentages = []\n",
        "\n",
        "# Iterating over removal percentages.\n",
        "for i in range(len(percentages)):\n",
        "\n",
        "  # Creating a copy of G.\n",
        "  G_copy = G.copy()\n",
        "\n",
        "  # Computing the list of nodes to remove.\n",
        "  remove = [node for node, degree in node_degree_list[:int(len(node_degree_list) * percentages[i] / 100) + 1]]\n",
        "\n",
        "  # Removing the nodes.\n",
        "  G_copy.remove_nodes_from(remove)\n",
        "\n",
        "  # Computing the new number of nodes.\n",
        "  total_nodes = len(G_copy.nodes())\n",
        "\n",
        "  # Computing all the connected components.\n",
        "  cc = [c for c in sorted(nx.connected_components(G_copy), key = len, reverse = True)]\n",
        "\n",
        "  # Computing the number of singletons.\n",
        "  n_singletons = sum(len(c) == 1 for c in cc)\n",
        "\n",
        "  # Computing percentage of nodes in the largest connected component.\n",
        "  lcc_percentages.append(len(cc[0]) * 100 / total_nodes)\n",
        "\n",
        "  # Computing percentage of singletons.\n",
        "  singletons_percentages.append(n_singletons * 100 / total_nodes)\n",
        "\n",
        "  # Computing percentage of middle region.\n",
        "  middle_region_percentages.append(100 - lcc_percentages[i] - singletons_percentages[i])\n",
        "\n",
        "# Plotting the analysis of the graphs obtained by removing nodes.\n",
        "fig, ax = plt.subplots(1, 1, figsize = (6, 4))\n",
        "ax.set_xlabel(\"Fraction of network removed\")\n",
        "ax.set_ylabel(r\"Percentage (\\%)\")\n",
        "ax.set_xticks(np.arange(0, 7, 1, dtype = int))\n",
        "ax.set_xticklabels([r\"0.01\\%\", r\"0.1\\%\", r\"1\\%\", r\"5\\%\", r\"10\\%\", r\"20\\%\", r\"30\\%\"])\n",
        "ax.bar(np.arange(0, 7, 1, dtype = int), singletons_percentages, label = \"Singletons\")\n",
        "ax.bar(np.arange(0, 7, 1, dtype = int), middle_region_percentages, bottom = singletons_percentages, label = \"Middle region\")\n",
        "ax.bar(np.arange(0, 7, 1, dtype = int), lcc_percentages, bottom = np.array(singletons_percentages) + np.array(middle_region_percentages), label = \"LCC\")\n",
        "ax.legend(loc = \"upper left\")\n",
        "fig.savefig(f\"graphs_with_nodes_removed.pdf\", bbox_inches = \"tight\")\n",
        "plt.show()"
      ],
      "metadata": {
        "id": "68LQE5ZsLQny",
        "colab": {
          "base_uri": "https://localhost:8080/",
          "height": 286
        },
        "outputId": "2cb964fc-1a60-492f-ee8f-f61f44c81139"
      },
      "execution_count": 101,
      "outputs": [
        {
          "output_type": "display_data",
          "data": {
            "text/plain": [
              "<Figure size 432x288 with 1 Axes>"
            ],
            "image/png": "[encoded data removed]"
          },
          "metadata": {
            "needs_background": "light"
          }
        }
      ]
    },
    {
      "cell_type": "markdown",
      "source": [
        "The average degree, clustering coefficient, PageRank, H-index, and G-index is computed among authors having the same academic title, and working in the same field."
      ],
      "metadata": {
        "id": "N6Qy92bR5_Jw"
      }
    },
    {
      "cell_type": "code",
      "source": [
        "# Dictionary containing academic titles key-value pairs.\n",
        "titles = {1: \"student\", 2: \"postdoc\", 3: \"professor\"}\n",
        "\n",
        "# Function which computes the analysis for a specific academic title.\n",
        "def analysis_for_specific_title(title):\n",
        "\n",
        "  # List of nodes of group i.\n",
        "  group = [node for node, data in list(G.nodes(data = True)) if data[\"academic_title\"] == title]\n",
        "\n",
        "  # Printing the average degree of group i.\n",
        "  print(f\"The average degree of group \\\"{titles[title]}\\\" is: {np.sum(np.array(degrees)[group]) / len(group)}.\")\n",
        "\n",
        "  # Printing the average clustering coefficient of group i.\n",
        "  print(f\"The average clustering coefficient of group \\\"{titles[title]}\\\" is: {np.sum(np.array(clustering_coefficients)[group]) / len(group)}.\")\n",
        "\n",
        "  # Printing the average pagerank of group i.\n",
        "  print(f\"The average PageRank of group \\\"{titles[title]}\\\" is: {np.sum(np.array(pageranks)[group]) / len(group)}.\")\n",
        "\n",
        "  # Computing the average h-index.\n",
        "  avg_h_index = np.sum([data[\"h_index\"] for node, data in list(G.nodes(data = True)) if data[\"academic_title\"] == title]) / len(group)\n",
        "\n",
        "  # Computing the average g-index.\n",
        "  avg_g_index = np.sum([data[\"g_index\"] for node, data in list(G.nodes(data = True)) if data[\"academic_title\"] == title]) / len(group)\n",
        "\n",
        "  # Printing the average h-index of group i.\n",
        "  print(f\"The average h-index of group \\\"{titles[title]}\\\" is: {avg_h_index}.\")\n",
        "\n",
        "  # Printing the average g-index of group i.\n",
        "  print(f\"The average g-index of group \\\"{titles[title]}\\\" is: {avg_g_index}.\")\n",
        "\n",
        "# Iterating over academic titles.\n",
        "for i in range(1, 4):\n",
        "\n",
        "  # Computing analysis for title i.\n",
        "  analysis_for_specific_title(i)"
      ],
      "metadata": {
        "colab": {
          "base_uri": "https://localhost:8080/"
        },
        "id": "Q4mHECVsHlP7",
        "outputId": "312b01de-7f50-47fe-fdd5-485c88e24cb8"
      },
      "execution_count": 102,
      "outputs": [
        {
          "output_type": "stream",
          "name": "stdout",
          "text": [
            "The average degree of group \"student\" is: 1.9396551724137931.\n",
            "The average clustering coefficient of group \"student\" is: 0.22375508944073466.\n",
            "The average PageRank of group \"student\" is: 1.3974213412141979e-06.\n",
            "The average h-index of group \"student\" is: 2.2187310949788266.\n",
            "The average g-index of group \"student\" is: 4.285276769509982.\n",
            "The average degree of group \"postdoc\" is: 4.687944421740907.\n",
            "The average clustering coefficient of group \"postdoc\" is: 0.27631312469655805.\n",
            "The average PageRank of group \"postdoc\" is: 2.1339253322511707e-06.\n",
            "The average h-index of group \"postdoc\" is: 6.139027380465876.\n",
            "The average g-index of group \"postdoc\" is: 12.65132815692685.\n",
            "The average degree of group \"professor\" is: 9.392989993781447.\n",
            "The average clustering coefficient of group \"professor\" is: 0.15992348887946675.\n",
            "The average PageRank of group \"professor\" is: 3.3144804473146906e-06.\n",
            "The average h-index of group \"professor\" is: 12.676601277630166.\n",
            "The average g-index of group \"professor\" is: 25.544179998869353.\n"
          ]
        }
      ]
    },
    {
      "cell_type": "code",
      "source": [
        "# Function which computes the analysis for a specific field of science.\n",
        "def analysis_for_specific_field(field):\n",
        "\n",
        "  # List of nodes of group \"field\".\n",
        "  group = [node for node, data in list(G.nodes(data = True)) if data[field] == 1]\n",
        "\n",
        "  # Printing the average degree of group \"field\".\n",
        "  print(f\"The average degree based on \\\"{field}\\\" is: {np.sum(np.array(degrees)[group]) / len(group)}.\")\n",
        "\n",
        "  # Printing the average clustering coefficient of group \"field\".\n",
        "  print(f\"The average clustering coefficient based on \\\"{field}\\\" is: {np.sum(np.array(clustering_coefficients)[group]) / len(group)}.\")\n",
        "\n",
        "  # Printing the average pagerank of group \"field\".\n",
        "  print(f\"The average PageRank based on \\\"{field}\\\" is: {np.sum(np.array(pageranks)[group]) / len(group)}.\")\n",
        "\n",
        "  # Computing the average h-index.\n",
        "  avg_h_index = np.sum([data[\"h_index\"] for node, data in list(G.nodes(data = True)) if data[field] == 1]) / len(group)\n",
        "\n",
        "  # Computing the average g-index.\n",
        "  avg_g_index = np.sum([data[\"g_index\"] for node, data in list(G.nodes(data = True)) if data[field] == 1]) / len(group)\n",
        "\n",
        "  # Printing the average h-index of group \"field\".\n",
        "  print(f\"The average h-index based on \\\"{field}\\\" is: {avg_h_index}.\")\n",
        "\n",
        "  # Printing the average g-index of group \"field\".\n",
        "  print(f\"The average g-index based on \\\"{field}\\\" is: {avg_g_index}.\")\n",
        "\n",
        "# Computing analysis for computer science.\n",
        "analysis_for_specific_field(\"computer_science_author\")\n",
        "\n",
        "# Computing analysis for biology.\n",
        "analysis_for_specific_field(\"biology_author\")\n",
        "\n",
        "# Computing analysis for sociology.\n",
        "analysis_for_specific_field(\"sociology_author\")"
      ],
      "metadata": {
        "colab": {
          "base_uri": "https://localhost:8080/"
        },
        "id": "suwyvev4ShmV",
        "outputId": "1af3d732-ddc8-42f3-bd86-10ee102c9d87"
      },
      "execution_count": 103,
      "outputs": [
        {
          "output_type": "stream",
          "name": "stdout",
          "text": [
            "The average degree based on \"computer_science_author\" is: 8.541414555360028.\n",
            "The average clustering coefficient based on \"computer_science_author\" is: 0.23749568296282517.\n",
            "The average PageRank based on \"computer_science_author\" is: 2.823313517020209e-06.\n",
            "The average h-index based on \"computer_science_author\" is: 8.322614082877323.\n",
            "The average g-index based on \"computer_science_author\" is: 16.83349805944604.\n",
            "The average degree based on \"biology_author\" is: 7.795497869137091.\n",
            "The average clustering coefficient based on \"biology_author\" is: 0.2188148572758744.\n",
            "The average PageRank based on \"biology_author\" is: 2.853969392064543e-06.\n",
            "The average h-index based on \"biology_author\" is: 10.424035647940165.\n",
            "The average g-index based on \"biology_author\" is: 21.29087796408494.\n",
            "The average degree based on \"sociology_author\" is: 5.567415730337078.\n",
            "The average clustering coefficient based on \"sociology_author\" is: 0.17560493370275798.\n",
            "The average PageRank based on \"sociology_author\" is: 2.564732605744508e-06.\n",
            "The average h-index based on \"sociology_author\" is: 11.097378277153558.\n",
            "The average g-index based on \"sociology_author\" is: 24.397627965043696.\n"
          ]
        }
      ]
    },
    {
      "cell_type": "markdown",
      "source": [
        "### Correlation Analysis"
      ],
      "metadata": {
        "id": "aUr47IQ06a8j"
      }
    },
    {
      "cell_type": "markdown",
      "source": [
        "The correlation between the co-authorship network (degree, clustering coefficient, PagaRank) and the citation metrics (total number of citations, H-index, G-index) is computed by using the Pearson correlation coefficient."
      ],
      "metadata": {
        "id": "Q4XrnrZf6eX2"
      }
    },
    {
      "cell_type": "code",
      "source": [
        "# Computing the list of total number of citations.\n",
        "total_number_of_citations = [data[\"total_number_of_citations\"] for node, data in list(G.nodes(data = True))]\n",
        "\n",
        "# Computing the list of h-indexes.\n",
        "h_indexes = [data[\"h_index\"] for node, data in list(G.nodes(data = True))]\n",
        "\n",
        "# Computing the list of g-indexes.\n",
        "g_indexes = [data[\"g_index\"] for node, data in list(G.nodes(data = True))]\n",
        "\n",
        "# Printing the Pearson correlation coefficients.\n",
        "print(f\"The Pearson correlation coefficient between total_number_of_citations and degrees is {stats.pearsonr(total_number_of_citations, degrees)[0]}.\")\n",
        "print(f\"The Pearson correlation coefficient between total_number_of_citations and clustering_coefficients is {stats.pearsonr(total_number_of_citations, clustering_coefficients)[0]}.\")\n",
        "print(f\"The Pearson correlation coefficient between total_number_of_citations and pageranks is {stats.pearsonr(total_number_of_citations, pageranks)[0]}.\")\n",
        "print(f\"The Pearson correlation coefficient between h_indexes and degrees is {stats.pearsonr(h_indexes, degrees)[0]}.\")\n",
        "print(f\"The Pearson correlation coefficient between h_indexes and clustering_coefficients is {stats.pearsonr(h_indexes, clustering_coefficients)[0]}.\")\n",
        "print(f\"The Pearson correlation coefficient between h_indexes and pageranks is {stats.pearsonr(h_indexes, pageranks)[0]}.\")\n",
        "print(f\"The Pearson correlation coefficient between g_indexes and degrees is {stats.pearsonr(g_indexes, degrees)[0]}.\")\n",
        "print(f\"The Pearson correlation coefficient between g_indexes and clustering_coefficients is {stats.pearsonr(g_indexes, clustering_coefficients)[0]}.\")\n",
        "print(f\"The Pearson correlation coefficient between g_indexes and pageranks is {stats.pearsonr(g_indexes, pageranks)[0]}.\")"
      ],
      "metadata": {
        "colab": {
          "base_uri": "https://localhost:8080/"
        },
        "id": "4op598xNZeLX",
        "outputId": "b5558bbb-9a25-4fa4-dbc3-200706cd2cb8"
      },
      "execution_count": 104,
      "outputs": [
        {
          "output_type": "stream",
          "name": "stdout",
          "text": [
            "The Pearson correlation coefficient between total_number_of_citations and degrees is 0.5282246549685807.\n",
            "The Pearson correlation coefficient between total_number_of_citations and clustering_coefficients is -0.027465731381683865.\n",
            "The Pearson correlation coefficient between total_number_of_citations and pageranks is 0.5303918116000303.\n",
            "The Pearson correlation coefficient between h_indexes and degrees is 0.6785437418102267.\n",
            "The Pearson correlation coefficient between h_indexes and clustering_coefficients is 0.01637827921524193.\n",
            "The Pearson correlation coefficient between h_indexes and pageranks is 0.7280814186653497.\n",
            "The Pearson correlation coefficient between g_indexes and degrees is 0.6490288524338288.\n",
            "The Pearson correlation coefficient between g_indexes and clustering_coefficients is 0.021569904720877657.\n",
            "The Pearson correlation coefficient between g_indexes and pageranks is 0.6780007968789739.\n"
          ]
        }
      ]
    },
    {
      "cell_type": "markdown",
      "source": [
        "Lastly, an assortativity coefficient based on academic title, H-index, and G-index is computed."
      ],
      "metadata": {
        "id": "PkzJIU2e6zUb"
      }
    },
    {
      "cell_type": "code",
      "source": [
        "# Considering nodes with a defined academic title.\n",
        "nodes_with_title = [node for node, data in list(G.nodes(data = True)) if data[\"academic_title\"] == 1 or data[\"academic_title\"] == 2 or data[\"academic_title\"] == 3]\n",
        "\n",
        "# Computing and printing the assortatity coefficient based on attributes.\n",
        "print(\"The assortativity coefficient based on academic title is: {}.\".format(nx.numeric_assortativity_coefficient(G, \"academic_title\", nodes = nodes_with_title)))\n",
        "print(\"The assortativity coefficient based on h-index is: {}.\".format(nx.numeric_assortativity_coefficient(G, \"h_index\", nodes = nodes_with_title)))\n",
        "print(\"The assortativity coefficient based on g-index is: {}.\".format(nx.numeric_assortativity_coefficient(G, \"g_index\", nodes = nodes_with_title)))"
      ],
      "metadata": {
        "colab": {
          "base_uri": "https://localhost:8080/"
        },
        "id": "YkgrPbMmvSax",
        "outputId": "84306b07-f96c-4ef1-e5ed-14f73fa410d5"
      },
      "execution_count": 105,
      "outputs": [
        {
          "output_type": "stream",
          "name": "stdout",
          "text": [
            "The assortativity coefficient based on academic title is: 0.16959266060251812.\n",
            "The assortativity coefficient based on h-index is: 0.20820993916117553.\n",
            "The assortativity coefficient based on g-index is: 0.24080875522508471.\n"
          ]
        }
      ]
    },
    {
      "cell_type": "markdown",
      "source": [
        "### References <a name=\"references\"></a>"
      ],
      "metadata": {
        "id": "akOAmGnN7g8y"
      }
    },
    {
      "cell_type": "markdown",
      "source": [
        "1. Yang Chen, Cong Ding, Jiyao Hu, Ruichuan Chen, Pan Hui and Xiaoming Fu, *Building and Analyzing a Global Co-Authorship Network Using Google Scholar Data*, DOI: [https://doi.org/10.1145/3041021.3053056](https://doi.org/10.1145/3041021.3053056).\n",
        "\n",
        "2. Yang Chen, *co-authorship-network*, [https://github.com/chenyang03/co-authorship-network](https://github.com/chenyang03/co-authorship-network)."
      ],
      "metadata": {
        "id": "2IV1ON8u7jNu"
      }
    }
  ]
}