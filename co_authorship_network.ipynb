{
  "nbformat": 4,
  "nbformat_minor": 0,
  "metadata": {
    "colab": {
      "provenance": [],
      "collapsed_sections": [
        "Q8_NOtI51NpH",
        "k8wS4Jw_1g7T",
        "aUr47IQ06a8j",
        "akOAmGnN7g8y"
      ]
    },
    "kernelspec": {
      "name": "python3",
      "display_name": "Python 3"
    },
    "language_info": {
      "name": "python"
    }
  },
  "cells": [
    {
      "cell_type": "markdown",
      "source": [
        "<center>\n",
        "    <h2>\n",
        "        Social Network Analysis\n",
        "    </h2>\n",
        "    <h3>\n",
        "        Building and Analyzing a Global Co-Authorship Network Using Google Scholar Data\n",
        "    </h3>\n",
        "</center>\n",
        "\n",
        "<br>\n",
        "\n",
        "<b>Student</b>: Matteo Donati <br>\n",
        "<b>Student ID.</b>: 0001032227 <br>\n",
        "<b>E-mail</b>: matteo.donati10@studio.unibo.it\n",
        "\n",
        "<br>"
      ],
      "metadata": {
        "id": "uJzr2iE10TJo"
      }
    },
    {
      "cell_type": "markdown",
      "source": [
        "This notebook is an implementation of the paper by Chen *et al*., (2017)<sup>[[1]](#references)</sup><sup>[[2]](#references)</sup>."
      ],
      "metadata": {
        "id": "MrZ3a27q8Hmh"
      }
    },
    {
      "cell_type": "markdown",
      "source": [
        "### Libraries"
      ],
      "metadata": {
        "id": "Q8_NOtI51NpH"
      }
    },
    {
      "cell_type": "code",
      "source": [
        "# Installing LaTeX. This is not mandatory, and it is used to plot using LaTex.\n",
        "!sudo apt-get install dvipng texlive-latex-extra texlive-fonts-recommended cm-super"
      ],
      "metadata": {
        "id": "7cp3ZazugZql",
        "colab": {
          "base_uri": "https://localhost:8080/"
        },
        "outputId": "687f0ad6-73ad-4448-90a0-110181d529ad"
      },
      "execution_count": 1,
      "outputs": [
        {
          "output_type": "stream",
          "name": "stdout",
          "text": [
            "Reading package lists... Done\n",
            "Building dependency tree       \n",
            "Reading state information... Done\n",
            "The following package was automatically installed and is no longer required:\n",
            "  libnvidia-common-460\n",
            "Use 'sudo apt autoremove' to remove it.\n",
            "The following additional packages will be installed:\n",
            "  cm-super-minimal fonts-droid-fallback fonts-lato fonts-lmodern\n",
            "  fonts-noto-mono fonts-texgyre ghostscript gsfonts javascript-common\n",
            "  libcupsfilters1 libcupsimage2 libgs9 libgs9-common libijs-0.35 libjbig2dec0\n",
            "  libjs-jquery libkpathsea6 libpotrace0 libptexenc1 libruby2.5 libsynctex1\n",
            "  libtexlua52 libtexluajit2 libzzip-0-13 lmodern pfb2t1c2pfb poppler-data\n",
            "  preview-latex-style rake ruby ruby-did-you-mean ruby-minitest\n",
            "  ruby-net-telnet ruby-power-assert ruby-test-unit ruby2.5\n",
            "  rubygems-integration t1utils tex-common tex-gyre texlive-base\n",
            "  texlive-binaries texlive-latex-base texlive-latex-recommended\n",
            "  texlive-pictures texlive-plain-generic tipa\n",
            "Suggested packages:\n",
            "  fonts-noto ghostscript-x apache2 | lighttpd | httpd poppler-utils\n",
            "  fonts-japanese-mincho | fonts-ipafont-mincho fonts-japanese-gothic\n",
            "  | fonts-ipafont-gothic fonts-arphic-ukai fonts-arphic-uming fonts-nanum ri\n",
            "  ruby-dev bundler debhelper perl-tk xpdf-reader | pdf-viewer\n",
            "  texlive-fonts-recommended-doc texlive-latex-base-doc python-pygments\n",
            "  icc-profiles libfile-which-perl libspreadsheet-parseexcel-perl\n",
            "  texlive-latex-extra-doc texlive-latex-recommended-doc texlive-pstricks\n",
            "  dot2tex prerex ruby-tcltk | libtcltk-ruby texlive-pictures-doc vprerex\n",
            "The following NEW packages will be installed:\n",
            "  cm-super cm-super-minimal dvipng fonts-droid-fallback fonts-lato\n",
            "  fonts-lmodern fonts-noto-mono fonts-texgyre ghostscript gsfonts\n",
            "  javascript-common libcupsfilters1 libcupsimage2 libgs9 libgs9-common\n",
            "  libijs-0.35 libjbig2dec0 libjs-jquery libkpathsea6 libpotrace0 libptexenc1\n",
            "  libruby2.5 libsynctex1 libtexlua52 libtexluajit2 libzzip-0-13 lmodern\n",
            "  pfb2t1c2pfb poppler-data preview-latex-style rake ruby ruby-did-you-mean\n",
            "  ruby-minitest ruby-net-telnet ruby-power-assert ruby-test-unit ruby2.5\n",
            "  rubygems-integration t1utils tex-common tex-gyre texlive-base\n",
            "  texlive-binaries texlive-fonts-recommended texlive-latex-base\n",
            "  texlive-latex-extra texlive-latex-recommended texlive-pictures\n",
            "  texlive-plain-generic tipa\n",
            "0 upgraded, 51 newly installed, 0 to remove and 27 not upgraded.\n",
            "Need to get 163 MB of archives.\n",
            "After this operation, 503 MB of additional disk space will be used.\n",
            "Get:1 http://archive.ubuntu.com/ubuntu bionic/main amd64 fonts-droid-fallback all 1:6.0.1r16-1.1 [1,805 kB]\n",
            "Get:2 http://archive.ubuntu.com/ubuntu bionic/main amd64 fonts-lato all 2.0-2 [2,698 kB]\n",
            "Get:3 http://archive.ubuntu.com/ubuntu bionic/main amd64 poppler-data all 0.4.8-2 [1,479 kB]\n",
            "Get:4 http://archive.ubuntu.com/ubuntu bionic/main amd64 tex-common all 6.09 [33.0 kB]\n",
            "Get:5 http://archive.ubuntu.com/ubuntu bionic-updates/main amd64 libkpathsea6 amd64 2017.20170613.44572-8ubuntu0.1 [54.9 kB]\n",
            "Get:6 http://archive.ubuntu.com/ubuntu bionic-updates/main amd64 libptexenc1 amd64 2017.20170613.44572-8ubuntu0.1 [34.5 kB]\n",
            "Get:7 http://archive.ubuntu.com/ubuntu bionic-updates/main amd64 libsynctex1 amd64 2017.20170613.44572-8ubuntu0.1 [41.4 kB]\n",
            "Get:8 http://archive.ubuntu.com/ubuntu bionic-updates/main amd64 libtexlua52 amd64 2017.20170613.44572-8ubuntu0.1 [91.2 kB]\n",
            "Get:9 http://archive.ubuntu.com/ubuntu bionic-updates/main amd64 libtexluajit2 amd64 2017.20170613.44572-8ubuntu0.1 [230 kB]\n",
            "Get:10 http://archive.ubuntu.com/ubuntu bionic/main amd64 t1utils amd64 1.41-2 [56.0 kB]\n",
            "Get:11 http://archive.ubuntu.com/ubuntu bionic-updates/main amd64 libcupsimage2 amd64 2.2.7-1ubuntu2.9 [18.6 kB]\n",
            "Get:12 http://archive.ubuntu.com/ubuntu bionic/main amd64 libijs-0.35 amd64 0.35-13 [15.5 kB]\n",
            "Get:13 http://archive.ubuntu.com/ubuntu bionic/main amd64 libjbig2dec0 amd64 0.13-6 [55.9 kB]\n",
            "Get:14 http://archive.ubuntu.com/ubuntu bionic-updates/main amd64 libgs9-common all 9.26~dfsg+0-0ubuntu0.18.04.17 [5,092 kB]\n",
            "Get:15 http://archive.ubuntu.com/ubuntu bionic-updates/main amd64 libgs9 amd64 9.26~dfsg+0-0ubuntu0.18.04.17 [2,267 kB]\n",
            "Get:16 http://archive.ubuntu.com/ubuntu bionic/main amd64 libpotrace0 amd64 1.14-2 [17.4 kB]\n",
            "Get:17 http://archive.ubuntu.com/ubuntu bionic-updates/main amd64 libzzip-0-13 amd64 0.13.62-3.1ubuntu0.18.04.1 [26.0 kB]\n",
            "Get:18 http://archive.ubuntu.com/ubuntu bionic-updates/main amd64 texlive-binaries amd64 2017.20170613.44572-8ubuntu0.1 [8,179 kB]\n",
            "Get:19 http://archive.ubuntu.com/ubuntu bionic/main amd64 texlive-base all 2017.20180305-1 [18.7 MB]\n",
            "Get:20 http://archive.ubuntu.com/ubuntu bionic/main amd64 fonts-lmodern all 2.004.5-3 [4,551 kB]\n",
            "Get:21 http://archive.ubuntu.com/ubuntu bionic/main amd64 texlive-latex-base all 2017.20180305-1 [951 kB]\n",
            "Get:22 http://archive.ubuntu.com/ubuntu bionic/main amd64 texlive-latex-recommended all 2017.20180305-1 [14.9 MB]\n",
            "Get:23 http://archive.ubuntu.com/ubuntu bionic/universe amd64 cm-super-minimal all 0.3.4-11 [5,810 kB]\n",
            "Get:24 http://archive.ubuntu.com/ubuntu bionic/universe amd64 pfb2t1c2pfb amd64 0.3-11 [9,342 B]\n",
            "Get:25 http://archive.ubuntu.com/ubuntu bionic/universe amd64 cm-super all 0.3.4-11 [18.7 MB]\n",
            "Get:26 http://archive.ubuntu.com/ubuntu bionic-updates/main amd64 ghostscript amd64 9.26~dfsg+0-0ubuntu0.18.04.17 [51.3 kB]\n",
            "Get:27 http://archive.ubuntu.com/ubuntu bionic/universe amd64 dvipng amd64 1.15-1 [78.2 kB]\n",
            "Get:28 http://archive.ubuntu.com/ubuntu bionic/main amd64 fonts-noto-mono all 20171026-2 [75.5 kB]\n",
            "Get:29 http://archive.ubuntu.com/ubuntu bionic/universe amd64 fonts-texgyre all 20160520-1 [8,761 kB]\n",
            "Get:30 http://archive.ubuntu.com/ubuntu bionic/main amd64 gsfonts all 1:8.11+urwcyr1.0.7~pre44-4.4 [3,120 kB]\n",
            "Get:31 http://archive.ubuntu.com/ubuntu bionic/main amd64 javascript-common all 11 [6,066 B]\n",
            "Get:32 http://archive.ubuntu.com/ubuntu bionic-updates/main amd64 libcupsfilters1 amd64 1.20.2-0ubuntu3.1 [108 kB]\n",
            "Get:33 http://archive.ubuntu.com/ubuntu bionic/main amd64 libjs-jquery all 3.2.1-1 [152 kB]\n",
            "Get:34 http://archive.ubuntu.com/ubuntu bionic/main amd64 rubygems-integration all 1.11 [4,994 B]\n",
            "Get:35 http://archive.ubuntu.com/ubuntu bionic-updates/main amd64 ruby2.5 amd64 2.5.1-1ubuntu1.12 [48.6 kB]\n",
            "Get:36 http://archive.ubuntu.com/ubuntu bionic/main amd64 ruby amd64 1:2.5.1 [5,712 B]\n",
            "Get:37 http://archive.ubuntu.com/ubuntu bionic-updates/main amd64 rake all 12.3.1-1ubuntu0.1 [44.9 kB]\n",
            "Get:38 http://archive.ubuntu.com/ubuntu bionic/main amd64 ruby-did-you-mean all 1.2.0-2 [9,700 B]\n",
            "Get:39 http://archive.ubuntu.com/ubuntu bionic/main amd64 ruby-minitest all 5.10.3-1 [38.6 kB]\n",
            "Get:40 http://archive.ubuntu.com/ubuntu bionic/main amd64 ruby-net-telnet all 0.1.1-2 [12.6 kB]\n",
            "Get:41 http://archive.ubuntu.com/ubuntu bionic/main amd64 ruby-power-assert all 0.3.0-1 [7,952 B]\n",
            "Get:42 http://archive.ubuntu.com/ubuntu bionic/main amd64 ruby-test-unit all 3.2.5-1 [61.1 kB]\n",
            "Get:43 http://archive.ubuntu.com/ubuntu bionic-updates/main amd64 libruby2.5 amd64 2.5.1-1ubuntu1.12 [3,073 kB]\n",
            "Get:44 http://archive.ubuntu.com/ubuntu bionic/main amd64 lmodern all 2.004.5-3 [9,631 kB]\n",
            "Get:45 http://archive.ubuntu.com/ubuntu bionic/main amd64 preview-latex-style all 11.91-1ubuntu1 [185 kB]\n",
            "Get:46 http://archive.ubuntu.com/ubuntu bionic/universe amd64 tex-gyre all 20160520-1 [4,998 kB]\n",
            "Get:47 http://archive.ubuntu.com/ubuntu bionic/universe amd64 texlive-fonts-recommended all 2017.20180305-1 [5,262 kB]\n",
            "Get:48 http://archive.ubuntu.com/ubuntu bionic/universe amd64 texlive-pictures all 2017.20180305-1 [4,026 kB]\n",
            "Get:49 http://archive.ubuntu.com/ubuntu bionic/universe amd64 texlive-latex-extra all 2017.20180305-2 [10.6 MB]\n",
            "Get:50 http://archive.ubuntu.com/ubuntu bionic/universe amd64 texlive-plain-generic all 2017.20180305-2 [23.6 MB]\n",
            "Get:51 http://archive.ubuntu.com/ubuntu bionic/universe amd64 tipa all 2:1.3-20 [2,978 kB]\n",
            "Fetched 163 MB in 8s (21.0 MB/s)\n",
            "debconf: unable to initialize frontend: Dialog\n",
            "debconf: (No usable dialog-like program is installed, so the dialog based frontend cannot be used. at /usr/share/perl5/Debconf/FrontEnd/Dialog.pm line 76, <> line 51.)\n",
            "debconf: falling back to frontend: Readline\n",
            "debconf: unable to initialize frontend: Readline\n",
            "debconf: (This frontend requires a controlling tty.)\n",
            "debconf: falling back to frontend: Teletype\n",
            "dpkg-preconfigure: unable to re-open stdin: \n",
            "Selecting previously unselected package fonts-droid-fallback.\n",
            "(Reading database ... 123942 files and directories currently installed.)\n",
            "Preparing to unpack .../00-fonts-droid-fallback_1%3a6.0.1r16-1.1_all.deb ...\n",
            "Unpacking fonts-droid-fallback (1:6.0.1r16-1.1) ...\n",
            "Selecting previously unselected package fonts-lato.\n",
            "Preparing to unpack .../01-fonts-lato_2.0-2_all.deb ...\n",
            "Unpacking fonts-lato (2.0-2) ...\n",
            "Selecting previously unselected package poppler-data.\n",
            "Preparing to unpack .../02-poppler-data_0.4.8-2_all.deb ...\n",
            "Unpacking poppler-data (0.4.8-2) ...\n",
            "Selecting previously unselected package tex-common.\n",
            "Preparing to unpack .../03-tex-common_6.09_all.deb ...\n",
            "Unpacking tex-common (6.09) ...\n",
            "Selecting previously unselected package libkpathsea6:amd64.\n",
            "Preparing to unpack .../04-libkpathsea6_2017.20170613.44572-8ubuntu0.1_amd64.deb ...\n",
            "Unpacking libkpathsea6:amd64 (2017.20170613.44572-8ubuntu0.1) ...\n",
            "Selecting previously unselected package libptexenc1:amd64.\n",
            "Preparing to unpack .../05-libptexenc1_2017.20170613.44572-8ubuntu0.1_amd64.deb ...\n",
            "Unpacking libptexenc1:amd64 (2017.20170613.44572-8ubuntu0.1) ...\n",
            "Selecting previously unselected package libsynctex1:amd64.\n",
            "Preparing to unpack .../06-libsynctex1_2017.20170613.44572-8ubuntu0.1_amd64.deb ...\n",
            "Unpacking libsynctex1:amd64 (2017.20170613.44572-8ubuntu0.1) ...\n",
            "Selecting previously unselected package libtexlua52:amd64.\n",
            "Preparing to unpack .../07-libtexlua52_2017.20170613.44572-8ubuntu0.1_amd64.deb ...\n",
            "Unpacking libtexlua52:amd64 (2017.20170613.44572-8ubuntu0.1) ...\n",
            "Selecting previously unselected package libtexluajit2:amd64.\n",
            "Preparing to unpack .../08-libtexluajit2_2017.20170613.44572-8ubuntu0.1_amd64.deb ...\n",
            "Unpacking libtexluajit2:amd64 (2017.20170613.44572-8ubuntu0.1) ...\n",
            "Selecting previously unselected package t1utils.\n",
            "Preparing to unpack .../09-t1utils_1.41-2_amd64.deb ...\n",
            "Unpacking t1utils (1.41-2) ...\n",
            "Selecting previously unselected package libcupsimage2:amd64.\n",
            "Preparing to unpack .../10-libcupsimage2_2.2.7-1ubuntu2.9_amd64.deb ...\n",
            "Unpacking libcupsimage2:amd64 (2.2.7-1ubuntu2.9) ...\n",
            "Selecting previously unselected package libijs-0.35:amd64.\n",
            "Preparing to unpack .../11-libijs-0.35_0.35-13_amd64.deb ...\n",
            "Unpacking libijs-0.35:amd64 (0.35-13) ...\n",
            "Selecting previously unselected package libjbig2dec0:amd64.\n",
            "Preparing to unpack .../12-libjbig2dec0_0.13-6_amd64.deb ...\n",
            "Unpacking libjbig2dec0:amd64 (0.13-6) ...\n",
            "Selecting previously unselected package libgs9-common.\n",
            "Preparing to unpack .../13-libgs9-common_9.26~dfsg+0-0ubuntu0.18.04.17_all.deb ...\n",
            "Unpacking libgs9-common (9.26~dfsg+0-0ubuntu0.18.04.17) ...\n",
            "Selecting previously unselected package libgs9:amd64.\n",
            "Preparing to unpack .../14-libgs9_9.26~dfsg+0-0ubuntu0.18.04.17_amd64.deb ...\n",
            "Unpacking libgs9:amd64 (9.26~dfsg+0-0ubuntu0.18.04.17) ...\n",
            "Selecting previously unselected package libpotrace0.\n",
            "Preparing to unpack .../15-libpotrace0_1.14-2_amd64.deb ...\n",
            "Unpacking libpotrace0 (1.14-2) ...\n",
            "Selecting previously unselected package libzzip-0-13:amd64.\n",
            "Preparing to unpack .../16-libzzip-0-13_0.13.62-3.1ubuntu0.18.04.1_amd64.deb ...\n",
            "Unpacking libzzip-0-13:amd64 (0.13.62-3.1ubuntu0.18.04.1) ...\n",
            "Selecting previously unselected package texlive-binaries.\n",
            "Preparing to unpack .../17-texlive-binaries_2017.20170613.44572-8ubuntu0.1_amd64.deb ...\n",
            "Unpacking texlive-binaries (2017.20170613.44572-8ubuntu0.1) ...\n",
            "Selecting previously unselected package texlive-base.\n",
            "Preparing to unpack .../18-texlive-base_2017.20180305-1_all.deb ...\n",
            "Unpacking texlive-base (2017.20180305-1) ...\n",
            "Selecting previously unselected package fonts-lmodern.\n",
            "Preparing to unpack .../19-fonts-lmodern_2.004.5-3_all.deb ...\n",
            "Unpacking fonts-lmodern (2.004.5-3) ...\n",
            "Selecting previously unselected package texlive-latex-base.\n",
            "Preparing to unpack .../20-texlive-latex-base_2017.20180305-1_all.deb ...\n",
            "Unpacking texlive-latex-base (2017.20180305-1) ...\n",
            "Selecting previously unselected package texlive-latex-recommended.\n",
            "Preparing to unpack .../21-texlive-latex-recommended_2017.20180305-1_all.deb ...\n",
            "Unpacking texlive-latex-recommended (2017.20180305-1) ...\n",
            "Selecting previously unselected package cm-super-minimal.\n",
            "Preparing to unpack .../22-cm-super-minimal_0.3.4-11_all.deb ...\n",
            "Unpacking cm-super-minimal (0.3.4-11) ...\n",
            "Selecting previously unselected package pfb2t1c2pfb.\n",
            "Preparing to unpack .../23-pfb2t1c2pfb_0.3-11_amd64.deb ...\n",
            "Unpacking pfb2t1c2pfb (0.3-11) ...\n",
            "Selecting previously unselected package cm-super.\n",
            "Preparing to unpack .../24-cm-super_0.3.4-11_all.deb ...\n",
            "Unpacking cm-super (0.3.4-11) ...\n",
            "Selecting previously unselected package ghostscript.\n",
            "Preparing to unpack .../25-ghostscript_9.26~dfsg+0-0ubuntu0.18.04.17_amd64.deb ...\n",
            "Unpacking ghostscript (9.26~dfsg+0-0ubuntu0.18.04.17) ...\n",
            "Selecting previously unselected package dvipng.\n",
            "Preparing to unpack .../26-dvipng_1.15-1_amd64.deb ...\n",
            "Unpacking dvipng (1.15-1) ...\n",
            "Selecting previously unselected package fonts-noto-mono.\n",
            "Preparing to unpack .../27-fonts-noto-mono_20171026-2_all.deb ...\n",
            "Unpacking fonts-noto-mono (20171026-2) ...\n",
            "Selecting previously unselected package fonts-texgyre.\n",
            "Preparing to unpack .../28-fonts-texgyre_20160520-1_all.deb ...\n",
            "Unpacking fonts-texgyre (20160520-1) ...\n",
            "Selecting previously unselected package gsfonts.\n",
            "Preparing to unpack .../29-gsfonts_1%3a8.11+urwcyr1.0.7~pre44-4.4_all.deb ...\n",
            "Unpacking gsfonts (1:8.11+urwcyr1.0.7~pre44-4.4) ...\n",
            "Selecting previously unselected package javascript-common.\n",
            "Preparing to unpack .../30-javascript-common_11_all.deb ...\n",
            "Unpacking javascript-common (11) ...\n",
            "Selecting previously unselected package libcupsfilters1:amd64.\n",
            "Preparing to unpack .../31-libcupsfilters1_1.20.2-0ubuntu3.1_amd64.deb ...\n",
            "Unpacking libcupsfilters1:amd64 (1.20.2-0ubuntu3.1) ...\n",
            "Selecting previously unselected package libjs-jquery.\n",
            "Preparing to unpack .../32-libjs-jquery_3.2.1-1_all.deb ...\n",
            "Unpacking libjs-jquery (3.2.1-1) ...\n",
            "Selecting previously unselected package rubygems-integration.\n",
            "Preparing to unpack .../33-rubygems-integration_1.11_all.deb ...\n",
            "Unpacking rubygems-integration (1.11) ...\n",
            "Selecting previously unselected package ruby2.5.\n",
            "Preparing to unpack .../34-ruby2.5_2.5.1-1ubuntu1.12_amd64.deb ...\n",
            "Unpacking ruby2.5 (2.5.1-1ubuntu1.12) ...\n",
            "Selecting previously unselected package ruby.\n",
            "Preparing to unpack .../35-ruby_1%3a2.5.1_amd64.deb ...\n",
            "Unpacking ruby (1:2.5.1) ...\n",
            "Selecting previously unselected package rake.\n",
            "Preparing to unpack .../36-rake_12.3.1-1ubuntu0.1_all.deb ...\n",
            "Unpacking rake (12.3.1-1ubuntu0.1) ...\n",
            "Selecting previously unselected package ruby-did-you-mean.\n",
            "Preparing to unpack .../37-ruby-did-you-mean_1.2.0-2_all.deb ...\n",
            "Unpacking ruby-did-you-mean (1.2.0-2) ...\n",
            "Selecting previously unselected package ruby-minitest.\n",
            "Preparing to unpack .../38-ruby-minitest_5.10.3-1_all.deb ...\n",
            "Unpacking ruby-minitest (5.10.3-1) ...\n",
            "Selecting previously unselected package ruby-net-telnet.\n",
            "Preparing to unpack .../39-ruby-net-telnet_0.1.1-2_all.deb ...\n",
            "Unpacking ruby-net-telnet (0.1.1-2) ...\n",
            "Selecting previously unselected package ruby-power-assert.\n",
            "Preparing to unpack .../40-ruby-power-assert_0.3.0-1_all.deb ...\n",
            "Unpacking ruby-power-assert (0.3.0-1) ...\n",
            "Selecting previously unselected package ruby-test-unit.\n",
            "Preparing to unpack .../41-ruby-test-unit_3.2.5-1_all.deb ...\n",
            "Unpacking ruby-test-unit (3.2.5-1) ...\n",
            "Selecting previously unselected package libruby2.5:amd64.\n",
            "Preparing to unpack .../42-libruby2.5_2.5.1-1ubuntu1.12_amd64.deb ...\n",
            "Unpacking libruby2.5:amd64 (2.5.1-1ubuntu1.12) ...\n",
            "Selecting previously unselected package lmodern.\n",
            "Preparing to unpack .../43-lmodern_2.004.5-3_all.deb ...\n",
            "Unpacking lmodern (2.004.5-3) ...\n",
            "Selecting previously unselected package preview-latex-style.\n",
            "Preparing to unpack .../44-preview-latex-style_11.91-1ubuntu1_all.deb ...\n",
            "Unpacking preview-latex-style (11.91-1ubuntu1) ...\n",
            "Selecting previously unselected package tex-gyre.\n",
            "Preparing to unpack .../45-tex-gyre_20160520-1_all.deb ...\n",
            "Unpacking tex-gyre (20160520-1) ...\n",
            "Selecting previously unselected package texlive-fonts-recommended.\n",
            "Preparing to unpack .../46-texlive-fonts-recommended_2017.20180305-1_all.deb ...\n",
            "Unpacking texlive-fonts-recommended (2017.20180305-1) ...\n",
            "Selecting previously unselected package texlive-pictures.\n",
            "Preparing to unpack .../47-texlive-pictures_2017.20180305-1_all.deb ...\n",
            "Unpacking texlive-pictures (2017.20180305-1) ...\n",
            "Selecting previously unselected package texlive-latex-extra.\n",
            "Preparing to unpack .../48-texlive-latex-extra_2017.20180305-2_all.deb ...\n",
            "Unpacking texlive-latex-extra (2017.20180305-2) ...\n",
            "Selecting previously unselected package texlive-plain-generic.\n",
            "Preparing to unpack .../49-texlive-plain-generic_2017.20180305-2_all.deb ...\n",
            "Unpacking texlive-plain-generic (2017.20180305-2) ...\n",
            "Selecting previously unselected package tipa.\n",
            "Preparing to unpack .../50-tipa_2%3a1.3-20_all.deb ...\n",
            "Unpacking tipa (2:1.3-20) ...\n",
            "Setting up libgs9-common (9.26~dfsg+0-0ubuntu0.18.04.17) ...\n",
            "Setting up libkpathsea6:amd64 (2017.20170613.44572-8ubuntu0.1) ...\n",
            "Setting up libjs-jquery (3.2.1-1) ...\n",
            "Setting up libtexlua52:amd64 (2017.20170613.44572-8ubuntu0.1) ...\n",
            "Setting up fonts-droid-fallback (1:6.0.1r16-1.1) ...\n",
            "Setting up libsynctex1:amd64 (2017.20170613.44572-8ubuntu0.1) ...\n",
            "Setting up libptexenc1:amd64 (2017.20170613.44572-8ubuntu0.1) ...\n",
            "Setting up tex-common (6.09) ...\n",
            "debconf: unable to initialize frontend: Dialog\n",
            "debconf: (No usable dialog-like program is installed, so the dialog based frontend cannot be used. at /usr/share/perl5/Debconf/FrontEnd/Dialog.pm line 76.)\n",
            "debconf: falling back to frontend: Readline\n",
            "update-language: texlive-base not installed and configured, doing nothing!\n",
            "Setting up gsfonts (1:8.11+urwcyr1.0.7~pre44-4.4) ...\n",
            "Setting up poppler-data (0.4.8-2) ...\n",
            "Setting up tex-gyre (20160520-1) ...\n",
            "Setting up preview-latex-style (11.91-1ubuntu1) ...\n",
            "Setting up fonts-texgyre (20160520-1) ...\n",
            "Setting up pfb2t1c2pfb (0.3-11) ...\n",
            "Setting up fonts-noto-mono (20171026-2) ...\n",
            "Setting up fonts-lato (2.0-2) ...\n",
            "Setting up libcupsfilters1:amd64 (1.20.2-0ubuntu3.1) ...\n",
            "Setting up libcupsimage2:amd64 (2.2.7-1ubuntu2.9) ...\n",
            "Setting up libjbig2dec0:amd64 (0.13-6) ...\n",
            "Setting up ruby-did-you-mean (1.2.0-2) ...\n",
            "Setting up t1utils (1.41-2) ...\n",
            "Setting up ruby-net-telnet (0.1.1-2) ...\n",
            "Setting up libijs-0.35:amd64 (0.35-13) ...\n",
            "Setting up rubygems-integration (1.11) ...\n",
            "Setting up libpotrace0 (1.14-2) ...\n",
            "Setting up javascript-common (11) ...\n",
            "Setting up ruby-minitest (5.10.3-1) ...\n",
            "Setting up libzzip-0-13:amd64 (0.13.62-3.1ubuntu0.18.04.1) ...\n",
            "Setting up libgs9:amd64 (9.26~dfsg+0-0ubuntu0.18.04.17) ...\n",
            "Setting up libtexluajit2:amd64 (2017.20170613.44572-8ubuntu0.1) ...\n",
            "Setting up fonts-lmodern (2.004.5-3) ...\n",
            "Setting up ruby-power-assert (0.3.0-1) ...\n",
            "Setting up ghostscript (9.26~dfsg+0-0ubuntu0.18.04.17) ...\n",
            "Setting up texlive-binaries (2017.20170613.44572-8ubuntu0.1) ...\n",
            "update-alternatives: using /usr/bin/xdvi-xaw to provide /usr/bin/xdvi.bin (xdvi.bin) in auto mode\n",
            "update-alternatives: using /usr/bin/bibtex.original to provide /usr/bin/bibtex (bibtex) in auto mode\n",
            "Setting up texlive-base (2017.20180305-1) ...\n",
            "mktexlsr: Updating /var/lib/texmf/ls-R-TEXLIVEDIST... \n",
            "mktexlsr: Updating /var/lib/texmf/ls-R-TEXMFMAIN... \n",
            "mktexlsr: Updating /var/lib/texmf/ls-R... \n",
            "mktexlsr: Done.\n",
            "tl-paper: setting paper size for dvips to a4: /var/lib/texmf/dvips/config/config-paper.ps\n",
            "tl-paper: setting paper size for dvipdfmx to a4: /var/lib/texmf/dvipdfmx/dvipdfmx-paper.cfg\n",
            "tl-paper: setting paper size for xdvi to a4: /var/lib/texmf/xdvi/XDvi-paper\n",
            "tl-paper: setting paper size for pdftex to a4: /var/lib/texmf/tex/generic/config/pdftexconfig.tex\n",
            "debconf: unable to initialize frontend: Dialog\n",
            "debconf: (No usable dialog-like program is installed, so the dialog based frontend cannot be used. at /usr/share/perl5/Debconf/FrontEnd/Dialog.pm line 76.)\n",
            "debconf: falling back to frontend: Readline\n",
            "Setting up texlive-fonts-recommended (2017.20180305-1) ...\n",
            "Setting up texlive-plain-generic (2017.20180305-2) ...\n",
            "Setting up texlive-latex-base (2017.20180305-1) ...\n",
            "Setting up lmodern (2.004.5-3) ...\n",
            "Setting up texlive-latex-recommended (2017.20180305-1) ...\n",
            "Setting up texlive-pictures (2017.20180305-1) ...\n",
            "Setting up dvipng (1.15-1) ...\n",
            "Setting up tipa (2:1.3-20) ...\n",
            "Regenerating '/var/lib/texmf/fmtutil.cnf-DEBIAN'... done.\n",
            "Regenerating '/var/lib/texmf/fmtutil.cnf-TEXLIVEDIST'... done.\n",
            "update-fmtutil has updated the following file(s):\n",
            "\t/var/lib/texmf/fmtutil.cnf-DEBIAN\n",
            "\t/var/lib/texmf/fmtutil.cnf-TEXLIVEDIST\n",
            "If you want to activate the changes in the above file(s),\n",
            "you should run fmtutil-sys or fmtutil.\n",
            "Setting up cm-super-minimal (0.3.4-11) ...\n",
            "Setting up texlive-latex-extra (2017.20180305-2) ...\n",
            "Setting up cm-super (0.3.4-11) ...\n",
            "Creating fonts. This may take some time... done.\n",
            "Setting up rake (12.3.1-1ubuntu0.1) ...\n",
            "Setting up ruby2.5 (2.5.1-1ubuntu1.12) ...\n",
            "Setting up ruby (1:2.5.1) ...\n",
            "Setting up ruby-test-unit (3.2.5-1) ...\n",
            "Setting up libruby2.5:amd64 (2.5.1-1ubuntu1.12) ...\n",
            "Processing triggers for mime-support (3.60ubuntu1) ...\n",
            "Processing triggers for libc-bin (2.27-3ubuntu1.6) ...\n",
            "Processing triggers for man-db (2.8.3-2ubuntu0.1) ...\n",
            "Processing triggers for fontconfig (2.12.6-0ubuntu2) ...\n",
            "Processing triggers for tex-common (6.09) ...\n",
            "debconf: unable to initialize frontend: Dialog\n",
            "debconf: (No usable dialog-like program is installed, so the dialog based frontend cannot be used. at /usr/share/perl5/Debconf/FrontEnd/Dialog.pm line 76.)\n",
            "debconf: falling back to frontend: Readline\n",
            "Running updmap-sys. This may take some time... done.\n",
            "Running mktexlsr /var/lib/texmf ... done.\n",
            "Building format(s) --all.\n",
            "\tThis may take some time... done.\n"
          ]
        }
      ]
    },
    {
      "cell_type": "code",
      "source": [
        "!git clone https://github.com/chenyang03/co-authorship-network"
      ],
      "metadata": {
        "colab": {
          "base_uri": "https://localhost:8080/"
        },
        "id": "DUevlEkdDx01",
        "outputId": "f9c2cfe0-eded-48e3-f130-f7dffa55b2b1"
      },
      "execution_count": 2,
      "outputs": [
        {
          "output_type": "stream",
          "name": "stdout",
          "text": [
            "fatal: destination path 'co-authorship-network' already exists and is not an empty directory.\n"
          ]
        }
      ]
    },
    {
      "cell_type": "code",
      "source": [
        "# Importing networkx.\n",
        "import networkx as nx\n",
        "\n",
        "# Importing numpy.\n",
        "import numpy as np\n",
        "\n",
        "# Importing pyplot.\n",
        "import matplotlib.pyplot as plt\n",
        "\n",
        "# Importing time.\n",
        "import time\n",
        "\n",
        "# Importing stats from scipy.\n",
        "from scipy import stats\n",
        "\n",
        "# Using TeX. This is not mandatory, and it is used to plot using LaTex.\n",
        "plt.rc(\"text\", usetex = True)\n",
        "\n",
        "# Setting the font family. This is not mandatory, and it is used to plot using LaTex.\n",
        "plt.rc(\"font\", family = \"serif\")\n",
        "\n",
        "# Setting the font size. This is not mandatory, and it is used to plot using LaTex.\n",
        "plt.rcParams.update({\"font.size\": 15})\n",
        "\n",
        "# Using package amsmath. This is not mandatory, and it is used to plot using LaTex.\n",
        "plt.rcParams[\"text.latex.preamble\"] = [r\"\\usepackage{amsmath}\"]"
      ],
      "metadata": {
        "id": "GLPEp1DUtuek"
      },
      "execution_count": 3,
      "outputs": []
    },
    {
      "cell_type": "markdown",
      "source": [
        "### Network Definition"
      ],
      "metadata": {
        "id": "k8wS4Jw_1g7T"
      }
    },
    {
      "cell_type": "markdown",
      "source": [
        "The network files are parsed and stored in specific lists."
      ],
      "metadata": {
        "id": "3JAvgzXH1_BR"
      }
    },
    {
      "cell_type": "code",
      "source": [
        "# Reading nodes file.\n",
        "with open(\"co-authorship-network/nodes.txt\") as f:\n",
        "    nodes = f.readlines()\n",
        "\n",
        "# Reading edges file.\n",
        "with open(\"co-authorship-network/edges.txt\") as f:\n",
        "    edges = f.readlines()\n",
        "\n",
        "# Reading nodes information file.\n",
        "with open(\"co-authorship-network/gs_info.txt\") as f:\n",
        "    info = f.readlines()\n",
        "\n",
        "# Casting nodes elements to integers.\n",
        "nodes = [eval(i) for i in nodes]\n",
        "\n",
        "# Casting edges elements to integer tuples.\n",
        "edges = [eval(i) for i in edges]\n",
        "\n",
        "# Replacing \" \" with \",\".\n",
        "info = [i.replace(\" \", \",\") for i in info]\n",
        "\n",
        "# Casting info elements to integer tuples.\n",
        "info = [eval(i) for i in info]\n",
        "\n",
        "# Creating the list of dictionaries containing the nodes attributes.\n",
        "info = [{\"id\": i[0], \"total_number_of_citations\": i[1], \"h_index\": i[2], \"g_index\": i[3], \"academic_title\": i[4], \"computer_science_author\": i[5], \"biology_author\": i[6], \"sociology_author\": i[7]} for i in info]"
      ],
      "metadata": {
        "id": "5DtxGlfAuq0l"
      },
      "execution_count": 4,
      "outputs": []
    },
    {
      "cell_type": "markdown",
      "source": [
        "The aforementioned lists are used to create a specific `Graph` object."
      ],
      "metadata": {
        "id": "JwUfYBmD2FhE"
      }
    },
    {
      "cell_type": "code",
      "source": [
        "# Creating the graph.\n",
        "G = nx.Graph()\n",
        "\n",
        "# Adding nodes.\n",
        "G.add_nodes_from(list(zip(nodes, info)))\n",
        "\n",
        "# Adding edges.\n",
        "G.add_edges_from(edges)\n",
        "\n",
        "# Printing the number of nodes and edges.\n",
        "G.number_of_nodes(), G.number_of_edges()"
      ],
      "metadata": {
        "id": "FfQ7FmAjv-I1",
        "colab": {
          "base_uri": "https://localhost:8080/"
        },
        "outputId": "adda7c08-8e94-4a98-844a-e8e4ca0d8dfa"
      },
      "execution_count": 5,
      "outputs": [
        {
          "output_type": "execute_result",
          "data": {
            "text/plain": [
              "(402392, 1234019)"
            ]
          },
          "metadata": {},
          "execution_count": 5
        }
      ]
    },
    {
      "cell_type": "markdown",
      "source": [
        "### Network Analysis"
      ],
      "metadata": {
        "id": "EyynSmLd2R8T"
      }
    },
    {
      "cell_type": "code",
      "source": [
        "# Auxiliary function used to plot measures.\n",
        "def plot(x, y, xlabel, ylabel, xlim, ylim, filename, marker = False):\n",
        "  fig, ax = plt.subplots(1, 1, figsize = (6, 4))\n",
        "  ax.set_xlabel(xlabel)\n",
        "  ax.set_ylabel(ylabel)\n",
        "  ax.set_xlim(xlim)\n",
        "  ax.set_ylim(ylim)\n",
        "  if marker:\n",
        "    ax.plot(x, y, color = \"k\", marker = \".\",  mfc = \"none\", markersize = 12, mew = 1.5, clip_on = False)\n",
        "  else:\n",
        "    ax.plot(x, y, color = \"k\")\n",
        "  fig.savefig(f\"{filename}.pdf\", bbox_inches = \"tight\")\n",
        "  plt.show()\n",
        "\n",
        "# Auxiliary function used to plot measures.\n",
        "def hist_plot(x, bins, xlabel, ylabel, filename, format = False):\n",
        "  fig, ax = plt.subplots(1, 1, figsize = (6, 4))\n",
        "  ax.set_xlabel(xlabel)\n",
        "  ax.set_ylabel(ylabel)\n",
        "  if format:\n",
        "    ax.ticklabel_format(style = \"sci\", axis = \"y\", scilimits = (0, 0))\n",
        "  ax.hist(x, bins = bins, color = \"k\")\n",
        "  fig.savefig(f\"{filename}.pdf\", bbox_inches = \"tight\")\n",
        "  plt.show()"
      ],
      "metadata": {
        "id": "m8luyhD3QdL0"
      },
      "execution_count": 6,
      "outputs": []
    },
    {
      "cell_type": "markdown",
      "source": [
        "The density of the network is computed."
      ],
      "metadata": {
        "id": "mtK_JWve3skf"
      }
    },
    {
      "cell_type": "code",
      "source": [
        "# Computing and printing the density of the graph.\n",
        "print(f\"The density of G is: {nx.density(G)}.\")"
      ],
      "metadata": {
        "id": "l7V52KmwlIeS",
        "colab": {
          "base_uri": "https://localhost:8080/"
        },
        "outputId": "d141dea3-5cd4-4e88-f084-12760759f773"
      },
      "execution_count": 7,
      "outputs": [
        {
          "output_type": "stream",
          "name": "stdout",
          "text": [
            "The density of G is: 1.5242431280399412e-05.\n"
          ]
        }
      ]
    },
    {
      "cell_type": "markdown",
      "source": [
        "The degree of each node in the network is computed."
      ],
      "metadata": {
        "id": "YR1RSGzR2p0I"
      }
    },
    {
      "cell_type": "code",
      "source": [
        "# Computing the list of nodes' degree.\n",
        "degrees = [degree for (node, degree) in G.degree()]\n",
        "\n",
        "# Printing the average degree of network G.\n",
        "print(f\"The average degree of network G is: {np.mean(degrees)}.\")"
      ],
      "metadata": {
        "id": "iuER2o8EHsg0",
        "colab": {
          "base_uri": "https://localhost:8080/"
        },
        "outputId": "a818fd37-2150-458c-eba5-c508dc00e37a"
      },
      "execution_count": 8,
      "outputs": [
        {
          "output_type": "stream",
          "name": "stdout",
          "text": [
            "The average degree of network G is: 6.1334171653512.\n"
          ]
        }
      ]
    },
    {
      "cell_type": "code",
      "source": [
        "# Printing the median value of the degrees in G.\n",
        "print(f\"The median value of the degrees in G is: {np.median(degrees)}.\")"
      ],
      "metadata": {
        "id": "cbBSL-WnMwvj",
        "colab": {
          "base_uri": "https://localhost:8080/"
        },
        "outputId": "318a9b09-cd41-4d23-cc29-5ad7531c037d"
      },
      "execution_count": 9,
      "outputs": [
        {
          "output_type": "stream",
          "name": "stdout",
          "text": [
            "The median value of the degrees in G is: 2.0.\n"
          ]
        }
      ]
    },
    {
      "cell_type": "code",
      "source": [
        "# Printing the maximum value of the degrees in G.\n",
        "print(f\"The maximum degree value of G is: {np.max(degrees)}.\")"
      ],
      "metadata": {
        "id": "G3fnbbcQm6Lv",
        "colab": {
          "base_uri": "https://localhost:8080/"
        },
        "outputId": "909bb232-d0fa-4ccf-c560-102b6bd9f1ee"
      },
      "execution_count": 10,
      "outputs": [
        {
          "output_type": "stream",
          "name": "stdout",
          "text": [
            "The maximum degree value of G is: 463.\n"
          ]
        }
      ]
    },
    {
      "cell_type": "code",
      "source": [
        "# Printing the minimum value of the degrees in G.\n",
        "print(f\"The minimum degree value of G is: {np.min(degrees)}.\")"
      ],
      "metadata": {
        "id": "JGf1OkxpnBgG",
        "colab": {
          "base_uri": "https://localhost:8080/"
        },
        "outputId": "e43fb047-ab6e-43b0-c8c8-0640c2edeaf8"
      },
      "execution_count": 11,
      "outputs": [
        {
          "output_type": "stream",
          "name": "stdout",
          "text": [
            "The minimum degree value of G is: 0.\n"
          ]
        }
      ]
    },
    {
      "cell_type": "markdown",
      "source": [
        "Both the cumulative distribution function, as well as the probability distribution of the degrees of the network are plotted."
      ],
      "metadata": {
        "id": "MbJsLiNK2-v8"
      }
    },
    {
      "cell_type": "code",
      "source": [
        "# Plotting the CDF of the degrees of G.\n",
        "plot(np.sort(degrees), np.arange(len(degrees)) / float(len(degrees)) * 100, \"Degree\", r\"Percentage (\\%)\", [0, 100], [0, 100], \"degrees_CDF\")"
      ],
      "metadata": {
        "id": "OBTFQvpBOmn4",
        "colab": {
          "base_uri": "https://localhost:8080/",
          "height": 291
        },
        "outputId": "93a4dfd5-67f6-4255-bf55-c6685516ce43"
      },
      "execution_count": 12,
      "outputs": [
        {
          "output_type": "display_data",
          "data": {
            "text/plain": [
              "<Figure size 432x288 with 1 Axes>"
            ],
            "image/png": "[encoded data removed]"
          },
          "metadata": {
            "needs_background": "light"
          }
        }
      ]
    },
    {
      "cell_type": "code",
      "source": [
        "# Plotting the distribution of degrees.\n",
        "hist_plot(degrees, 100, \"Degree\", \"Count\", \"degrees_distribution\", format = True)"
      ],
      "metadata": {
        "id": "_Rq-IZDCl-Sc",
        "colab": {
          "base_uri": "https://localhost:8080/",
          "height": 299
        },
        "outputId": "c65eddaa-5262-46ab-d549-dec91cfdc5df"
      },
      "execution_count": 13,
      "outputs": [
        {
          "output_type": "display_data",
          "data": {
            "text/plain": [
              "<Figure size 432x288 with 1 Axes>"
            ],
            "image/png": "[encoded data removed]"
          },
          "metadata": {
            "needs_background": "light"
          }
        }
      ]
    },
    {
      "cell_type": "markdown",
      "source": [
        "The clustering coefficient of each node in the network is computed."
      ],
      "metadata": {
        "id": "KZyLwucY3Mzx"
      }
    },
    {
      "cell_type": "code",
      "source": [
        "# Computing the list of nodes' clustering coefficient.\n",
        "clustering_coefficients = list(nx.clustering(G).values())\n",
        "\n",
        "# Plotting the average clustering coefficient of network G.\n",
        "print(f\"The average clustering coefficient of network G is: {np.mean(clustering_coefficients)}.\")"
      ],
      "metadata": {
        "id": "HeYT5HE5Ss6Z",
        "colab": {
          "base_uri": "https://localhost:8080/"
        },
        "outputId": "c6ce58cc-b065-4c77-dbfe-cb6796d006c3"
      },
      "execution_count": 14,
      "outputs": [
        {
          "output_type": "stream",
          "name": "stdout",
          "text": [
            "The average clustering coefficient of network G is: 0.19784841407184786.\n"
          ]
        }
      ]
    },
    {
      "cell_type": "code",
      "source": [
        "# Printing the maximum value of the clustering coefficient in G.\n",
        "print(f\"The maximum clustering coefficient value of G is: {np.max(clustering_coefficients)}.\")"
      ],
      "metadata": {
        "id": "wDhjWOPsuOZS",
        "colab": {
          "base_uri": "https://localhost:8080/"
        },
        "outputId": "59651cb8-3ace-474c-ae19-aab8892c3d6c"
      },
      "execution_count": 15,
      "outputs": [
        {
          "output_type": "stream",
          "name": "stdout",
          "text": [
            "The maximum clustering coefficient value of G is: 1.0.\n"
          ]
        }
      ]
    },
    {
      "cell_type": "code",
      "source": [
        "# Printing the minimum value of the clustering coefficient in G.\n",
        "print(f\"The minimum clustering coefficient value of G is: {np.min(clustering_coefficients)}.\")"
      ],
      "metadata": {
        "id": "HJGrgqjSuSW-",
        "colab": {
          "base_uri": "https://localhost:8080/"
        },
        "outputId": "216efafe-9cae-453b-a49c-8ac252ab7dd6"
      },
      "execution_count": 16,
      "outputs": [
        {
          "output_type": "stream",
          "name": "stdout",
          "text": [
            "The minimum clustering coefficient value of G is: 0.0.\n"
          ]
        }
      ]
    },
    {
      "cell_type": "markdown",
      "source": [
        "Both the cumulative distribution function, as well as the probability distribution of the clustering coefficients of the network are plotted."
      ],
      "metadata": {
        "id": "i04B_5CV3VuH"
      }
    },
    {
      "cell_type": "code",
      "source": [
        "# Plotting the CDF of the clustering coefficients of G.\n",
        "plot(np.sort(clustering_coefficients), np.arange(len(clustering_coefficients)) / float(len(clustering_coefficients)) * 100, \"Clustering coefficient\", r\"Percentage (\\%)\", [0, 1], [0, 100], \"clustering_coefficients_CDF\")"
      ],
      "metadata": {
        "id": "drD0-IdTTwvb",
        "colab": {
          "base_uri": "https://localhost:8080/",
          "height": 291
        },
        "outputId": "9cae3832-a81e-424e-d4b0-d252bea94a07"
      },
      "execution_count": 17,
      "outputs": [
        {
          "output_type": "display_data",
          "data": {
            "text/plain": [
              "<Figure size 432x288 with 1 Axes>"
            ],
            "image/png": "[encoded data removed]"
          },
          "metadata": {
            "needs_background": "light"
          }
        }
      ]
    },
    {
      "cell_type": "code",
      "source": [
        "# Plotting the distribution of clustering_coefficients.\n",
        "hist_plot(clustering_coefficients, 100, \"Clustering coefficient\", \"Count\", \"clustering_coefficients_distribution\", format = True)"
      ],
      "metadata": {
        "id": "2CdvemHaozgl",
        "colab": {
          "base_uri": "https://localhost:8080/",
          "height": 299
        },
        "outputId": "1fc7cd0d-b2b8-4f00-9584-5a633457789d"
      },
      "execution_count": 18,
      "outputs": [
        {
          "output_type": "display_data",
          "data": {
            "text/plain": [
              "<Figure size 432x288 with 1 Axes>"
            ],
            "image/png": "[encoded data removed]"
          },
          "metadata": {
            "needs_background": "light"
          }
        }
      ]
    },
    {
      "cell_type": "markdown",
      "source": [
        "The PageRank of each node in the network is computed."
      ],
      "metadata": {
        "id": "eMOsB9663h8B"
      }
    },
    {
      "cell_type": "code",
      "source": [
        "# Computing the list of nodes' pagerank.\n",
        "pageranks = list(nx.pagerank(G).values())\n",
        "\n",
        "# Plotting the average pagerank of network G.\n",
        "print(f\"The average PageRank of network G is: {np.mean(pageranks)}.\")"
      ],
      "metadata": {
        "id": "3arYpV_dkYqR",
        "colab": {
          "base_uri": "https://localhost:8080/"
        },
        "outputId": "e7026b6e-5bdb-458c-ffd1-3915fb5f06c5"
      },
      "execution_count": 19,
      "outputs": [
        {
          "output_type": "stream",
          "name": "stdout",
          "text": [
            "The average PageRank of network G is: 2.4851388695604847e-06.\n"
          ]
        }
      ]
    },
    {
      "cell_type": "code",
      "source": [
        "# Printing the maximum value of the pageranks in G.\n",
        "print(f\"The maximum PageRank value of G is: {np.max(pageranks)}.\")"
      ],
      "metadata": {
        "id": "Kl1ib5PXusoK",
        "colab": {
          "base_uri": "https://localhost:8080/"
        },
        "outputId": "1d963dba-da37-4ec9-9251-0d87e86f5fdf"
      },
      "execution_count": 20,
      "outputs": [
        {
          "output_type": "stream",
          "name": "stdout",
          "text": [
            "The maximum PageRank value of G is: 0.00010648911202899722.\n"
          ]
        }
      ]
    },
    {
      "cell_type": "code",
      "source": [
        "# Printing the minimum value of the pageranks in G.\n",
        "print(f\"The minimum RageRank value of G is: {np.min(pageranks)}.\")"
      ],
      "metadata": {
        "id": "MWSqY8bRu4tk",
        "colab": {
          "base_uri": "https://localhost:8080/"
        },
        "outputId": "2e6d70a0-1aa5-43d3-f611-0b5c2ecbef76"
      },
      "execution_count": 21,
      "outputs": [
        {
          "output_type": "stream",
          "name": "stdout",
          "text": [
            "The minimum RageRank value of G is: 6.455971825048254e-07.\n"
          ]
        }
      ]
    },
    {
      "cell_type": "markdown",
      "source": [
        "Both the cumulative distribution function, as well as the probability distribution of the PageRanks of the network are plotted."
      ],
      "metadata": {
        "id": "7kZaxzrZ3axK"
      }
    },
    {
      "cell_type": "code",
      "source": [
        "# Plotting the CDF of the clustering coefficients of G.\n",
        "plot(np.sort(pageranks), np.arange(len(pageranks)) / float(len(pageranks)) * 100, \"PageRank\", r\"Percentage (\\%)\", [0, 1e-5], [0, 100], \"pageranks_CDF\")"
      ],
      "metadata": {
        "id": "Ls-pPQEvuu8C",
        "colab": {
          "base_uri": "https://localhost:8080/",
          "height": 291
        },
        "outputId": "79105acc-6682-4466-cc4e-7c3a2b48356f"
      },
      "execution_count": 22,
      "outputs": [
        {
          "output_type": "display_data",
          "data": {
            "text/plain": [
              "<Figure size 432x288 with 1 Axes>"
            ],
            "image/png": "[encoded data removed]"
          },
          "metadata": {
            "needs_background": "light"
          }
        }
      ]
    },
    {
      "cell_type": "code",
      "source": [
        "# Plotting the distribution of pageranks.\n",
        "hist_plot(pageranks, 100, \"PageRank\", \"Count\", \"pageranks_distribution\", format = True)"
      ],
      "metadata": {
        "id": "L3Ug2qInsaae",
        "colab": {
          "base_uri": "https://localhost:8080/",
          "height": 299
        },
        "outputId": "17a3ad15-c654-4d7a-b674-6ff1c94ad425"
      },
      "execution_count": 23,
      "outputs": [
        {
          "output_type": "display_data",
          "data": {
            "text/plain": [
              "<Figure size 432x288 with 1 Axes>"
            ],
            "image/png": "[encoded data removed]"
          },
          "metadata": {
            "needs_background": "light"
          }
        }
      ]
    },
    {
      "cell_type": "code",
      "source": [
        "# Computing the average h-index.\n",
        "avg_h_index = np.mean([data[\"h_index\"] for node, data in list(G.nodes(data = True))])\n",
        "\n",
        "# Printing the average h-index of G.\n",
        "print(f\"The average h-index of G is: {avg_h_index}.\")\n",
        "\n",
        "# Computing the average g-index.\n",
        "avg_g_index = np.mean([data[\"g_index\"] for node, data in list(G.nodes(data = True))])\n",
        "\n",
        "# Printing the average g-index of G.\n",
        "print(f\"The average g-index of G is: {avg_g_index}.\")"
      ],
      "metadata": {
        "id": "s3uDR7a9Kid_",
        "colab": {
          "base_uri": "https://localhost:8080/"
        },
        "outputId": "281e3340-fd86-4c1e-f416-000fc335d70c"
      },
      "execution_count": 24,
      "outputs": [
        {
          "output_type": "stream",
          "name": "stdout",
          "text": [
            "The average h-index of G is: 8.335006660172171.\n",
            "The average g-index of G is: 16.67030159645321.\n"
          ]
        }
      ]
    },
    {
      "cell_type": "markdown",
      "source": [
        "The connected components of the network are computed and analysed."
      ],
      "metadata": {
        "id": "wlhmfTnx38l7"
      }
    },
    {
      "cell_type": "code",
      "source": [
        "# Printing the number of connected components.\n",
        "print(f\"The number of connected connected components is: {nx.number_connected_components(G)}.\")"
      ],
      "metadata": {
        "id": "VFCjk6rAEb4P",
        "colab": {
          "base_uri": "https://localhost:8080/"
        },
        "outputId": "010dcab3-9b3e-4d45-f31f-b089b6d65e35"
      },
      "execution_count": 25,
      "outputs": [
        {
          "output_type": "stream",
          "name": "stdout",
          "text": [
            "The number of connected connected components is: 133159.\n"
          ]
        }
      ]
    },
    {
      "cell_type": "code",
      "source": [
        "# Computing all the connected components.\n",
        "cc = [c for c in sorted(nx.connected_components(G), key = len, reverse = True)]\n",
        "\n",
        "# Printing the size of the largest connected component.\n",
        "print(f\"The size of the largest connected component is: {len(cc[0])}.\")"
      ],
      "metadata": {
        "id": "qoVAzYiLFyOR",
        "colab": {
          "base_uri": "https://localhost:8080/"
        },
        "outputId": "bd6e1750-3f92-4199-e2dd-591dfae34237"
      },
      "execution_count": 26,
      "outputs": [
        {
          "output_type": "stream",
          "name": "stdout",
          "text": [
            "The size of the largest connected component is: 258949.\n"
          ]
        }
      ]
    },
    {
      "cell_type": "code",
      "source": [
        "# Printing the size of the 2nd, 3rd, 4th and 5th connected component.\n",
        "print(f\"The 2nd to 5th largest connected components have {len(cc[1])}, {len(cc[2])}, {len(cc[3])}, and {len(cc[4])} nodes, respectively.\")"
      ],
      "metadata": {
        "id": "-ukYjxQiGrKx",
        "colab": {
          "base_uri": "https://localhost:8080/"
        },
        "outputId": "fb46000a-740c-472d-c802-2ea856fcfdb0"
      },
      "execution_count": 27,
      "outputs": [
        {
          "output_type": "stream",
          "name": "stdout",
          "text": [
            "The 2nd to 5th largest connected components have 14, 14, 13, and 13 nodes, respectively.\n"
          ]
        }
      ]
    },
    {
      "cell_type": "code",
      "source": [
        "# Plotting the size of the first ten connected components.\n",
        "fig, ax = plt.subplots(1, 1, figsize = (6, 4))\n",
        "ax.set_xlabel(\"Top 10 connected components\")\n",
        "ax.set_ylabel(\"Component size\")\n",
        "ax.set_yscale(\"log\")\n",
        "ax.set_xticks(np.arange(0, 10, 1, dtype = int))\n",
        "ax.set_xticklabels([\"1st\", \"2nd\", \"3rd\", \"4th\", \"5th\", \"6th\", \"7th\", \"8th\", \"9th\", \"10th\"])\n",
        "ax.bar(np.arange(0, 10, 1, dtype = int), [len(c) for c in cc[:10]], color = \"k\")\n",
        "fig.savefig(f\"components_size.pdf\", bbox_inches = \"tight\")\n",
        "plt.show()"
      ],
      "metadata": {
        "id": "oV8Bg1bVImfd",
        "colab": {
          "base_uri": "https://localhost:8080/",
          "height": 286
        },
        "outputId": "a8cd29fc-dd94-4e01-c52c-6f08243ba243"
      },
      "execution_count": 28,
      "outputs": [
        {
          "output_type": "display_data",
          "data": {
            "text/plain": [
              "<Figure size 432x288 with 1 Axes>"
            ],
            "image/png": "[encoded data removed]"
          },
          "metadata": {
            "needs_background": "light"
          }
        }
      ]
    },
    {
      "cell_type": "code",
      "source": [
        "# Printing the number of singletons.\n",
        "print(f\"Among all connected components, {sum(len(c) == 1 for c in cc)} of them are singletons.\")"
      ],
      "metadata": {
        "id": "72eZ_h2hG_u_",
        "colab": {
          "base_uri": "https://localhost:8080/"
        },
        "outputId": "f6a5e52e-51cc-4442-d65d-c4cb5cfbf952"
      },
      "execution_count": 29,
      "outputs": [
        {
          "output_type": "stream",
          "name": "stdout",
          "text": [
            "Among all connected components, 125318 of them are singletons.\n"
          ]
        }
      ]
    },
    {
      "cell_type": "markdown",
      "source": [
        "A new `Graph` object is created by considering the largest connected component only."
      ],
      "metadata": {
        "id": "BlI_bb6p4KHZ"
      }
    },
    {
      "cell_type": "code",
      "source": [
        "# Extracting the subgraph of G related to the largest connected component.\n",
        "H = G.subgraph(list(cc[0]))"
      ],
      "metadata": {
        "id": "Tpfy6AJXPiDq"
      },
      "execution_count": 30,
      "outputs": []
    },
    {
      "cell_type": "markdown",
      "source": [
        "Being `H` a large network, computing the shortest path between all pairs of nodes is computationally expensive."
      ],
      "metadata": {
        "id": "Ct4sU8pX4YDO"
      }
    },
    {
      "cell_type": "code",
      "source": [
        "%%time\n",
        "\n",
        "# Computing the first node's shortest path lengths.\n",
        "_ = next(nx.all_pairs_shortest_path_length(H))"
      ],
      "metadata": {
        "id": "AtrMKUfORxYR",
        "colab": {
          "base_uri": "https://localhost:8080/"
        },
        "outputId": "1420f482-fc62-4668-f66d-5137e23924ea"
      },
      "execution_count": 31,
      "outputs": [
        {
          "output_type": "stream",
          "name": "stdout",
          "text": [
            "CPU times: user 5.03 s, sys: 40 ms, total: 5.07 s\n",
            "Wall time: 5.09 s\n"
          ]
        }
      ]
    },
    {
      "cell_type": "markdown",
      "source": [
        "Therefore, in order to compute the average shortest path between any pair of nodes, sampling techniques will be adopted. In particular, the following cell of code computes the shortest path of the first nodes in `H`. The number of considered nodes is determined by the `N_SECONDS` variable, which defines for how long the `while` loop has to be iterated. Fortunately enough, the average shortest path computed using sampling approximates very well the real value ($5.96$)."
      ],
      "metadata": {
        "id": "c8f3e4vy4pTs"
      }
    },
    {
      "cell_type": "code",
      "source": [
        "# Defining the shortest path lengths generator.\n",
        "generator = nx.all_pairs_shortest_path_length(H)\n",
        "\n",
        "# Temporary variable used to store the number of considered nodes.\n",
        "cnt_nodes = 0\n",
        "\n",
        "# Temporary list of shortest path lengths.\n",
        "shortest_path_lengths = []\n",
        "\n",
        "# Number of nodes for which to compute the shortest path lengths.\n",
        "N_NODES = 100\n",
        "\n",
        "# Iterating over the first 20 nodes of H.\n",
        "while cnt_nodes < N_NODES:\n",
        "\n",
        "  # Computing the next node's shortest path lengths.\n",
        "  path = next(generator)\n",
        "\n",
        "  # Updating the number of considered nodes.\n",
        "  cnt_nodes = cnt_nodes + 1\n",
        "\n",
        "  # Updating the list of shortest path lengths.\n",
        "  shortest_path_lengths.append(list(path[1].values()))\n",
        "\n",
        "# Printing the average shortest path.\n",
        "print(f\"The average shortest path length is {np.sum(shortest_path_lengths) / (cnt_nodes * (len(path[1].values()) - 1))}.\")"
      ],
      "metadata": {
        "id": "qHp5WddpKgA7",
        "colab": {
          "base_uri": "https://localhost:8080/"
        },
        "outputId": "8fd46003-d371-4fbe-debb-aeb23a65e3a7"
      },
      "execution_count": 32,
      "outputs": [
        {
          "output_type": "stream",
          "name": "stdout",
          "text": [
            "The average shortest path length is 5.919765396913666.\n"
          ]
        }
      ]
    },
    {
      "cell_type": "code",
      "source": [
        "# Computing the unique values and their counts in shortest_path_lengths.\n",
        "lengths, counts = np.unique(shortest_path_lengths, return_counts = True) \n",
        "\n",
        "# Plotting the distribution of path lengths.\n",
        "plot(lengths, (counts / np.sum(counts)) * 100, \"Path length\", r\"Percentage (\\%)\", [0, 24], [0, 36], \"path_lengths_distribution\", marker = True)"
      ],
      "metadata": {
        "id": "Rqaz8z_UYjhW",
        "colab": {
          "base_uri": "https://localhost:8080/",
          "height": 291
        },
        "outputId": "bf9178d9-ab99-4b8c-e0fc-ee19f1d93120"
      },
      "execution_count": 33,
      "outputs": [
        {
          "output_type": "display_data",
          "data": {
            "text/plain": [
              "<Figure size 432x288 with 1 Axes>"
            ],
            "image/png": "[encoded data removed]"
          },
          "metadata": {
            "needs_background": "light"
          }
        }
      ]
    },
    {
      "cell_type": "code",
      "source": [
        "# Computing the list of nodes' clustering coefficient.\n",
        "clustering_coefficients_H = list(nx.clustering(H).values())\n",
        "\n",
        "# Plotting the average clustering coefficient of network H.\n",
        "print(f\"The average clustering coefficient of network H is: {np.mean(clustering_coefficients_H)}.\")"
      ],
      "metadata": {
        "id": "F4G8Uv84JrtW",
        "colab": {
          "base_uri": "https://localhost:8080/"
        },
        "outputId": "1fc1ac11-eb3e-423a-d505-1aec0bdb5157"
      },
      "execution_count": 34,
      "outputs": [
        {
          "output_type": "stream",
          "name": "stdout",
          "text": [
            "The average clustering coefficient of network H is: 0.2992787087577181.\n"
          ]
        }
      ]
    },
    {
      "cell_type": "markdown",
      "source": [
        "The robustness of the network is tested by removing specific percentages of high-degree nodes from the original network, and then by analysing the connected components of the remaining network."
      ],
      "metadata": {
        "id": "SAF2TG9C5pWF"
      }
    },
    {
      "cell_type": "code",
      "source": [
        "# Computing the list containing each (node, degree) tuple.\n",
        "node_degree_list = list(G.degree())\n",
        "\n",
        "# Ordering (based on degree value, in descending order) the list containing each (node, degree) tuple.\n",
        "node_degree_list.sort(key = lambda x: x[1], reverse = True)\n",
        "\n",
        "# Defining the list containing the removal %s.\n",
        "percentages = [0.01, 0.1, 1, 5, 10, 20, 30]\n",
        "\n",
        "# Defining the list that will store the largest connected component %s.\n",
        "lcc_percentages = []\n",
        "\n",
        "# Defining the list that will store the singletons %s.\n",
        "singletons_percentages = []\n",
        "\n",
        "# Defining the list that will store the middle region %s.\n",
        "middle_region_percentages = []\n",
        "\n",
        "# Iterating over removal percentages.\n",
        "for i in range(len(percentages)):\n",
        "\n",
        "  # Creating a copy of G.\n",
        "  G_copy = G.copy()\n",
        "\n",
        "  # Computing the list of nodes to remove.\n",
        "  remove = [node for node, degree in node_degree_list[:int(len(node_degree_list) * percentages[i] / 100) + 1]]\n",
        "\n",
        "  # Removing the nodes.\n",
        "  G_copy.remove_nodes_from(remove)\n",
        "\n",
        "  # Computing the new number of nodes.\n",
        "  total_nodes = len(G_copy.nodes())\n",
        "\n",
        "  # Computing all the connected components.\n",
        "  cc = [c for c in sorted(nx.connected_components(G_copy), key = len, reverse = True)]\n",
        "\n",
        "  # Computing the number of singletons.\n",
        "  n_singletons = sum(len(c) == 1 for c in cc)\n",
        "\n",
        "  # Computing percentage of nodes in the largest connected component.\n",
        "  lcc_percentages.append(len(cc[0]) * 100 / total_nodes)\n",
        "\n",
        "  # Computing percentage of singletons.\n",
        "  singletons_percentages.append(n_singletons * 100 / total_nodes)\n",
        "\n",
        "  # Computing percentage of middle region.\n",
        "  middle_region_percentages.append(100 - lcc_percentages[i] - singletons_percentages[i])\n",
        "\n",
        "# Plotting the analysis of the graphs obtained by removing nodes.\n",
        "fig, ax = plt.subplots(1, 1, figsize = (6, 4))\n",
        "ax.set_xlabel(\"Fraction of network removed\")\n",
        "ax.set_ylabel(r\"Percentage (\\%)\")\n",
        "ax.set_xticks(np.arange(0, 7, 1, dtype = int))\n",
        "ax.set_xticklabels([r\"0.01\\%\", r\"0.1\\%\", r\"1\\%\", r\"5\\%\", r\"10\\%\", r\"20\\%\", r\"30\\%\"])\n",
        "ax.bar(np.arange(0, 7, 1, dtype = int), singletons_percentages, label = \"Singletons\", color = \"k\", edgecolor = \"k\")\n",
        "ax.bar(np.arange(0, 7, 1, dtype = int), middle_region_percentages, bottom = singletons_percentages, label = \"Middle region\", color = \"gray\", edgecolor = \"k\")\n",
        "ax.bar(np.arange(0, 7, 1, dtype = int), lcc_percentages, bottom = np.array(singletons_percentages) + np.array(middle_region_percentages), label = \"LCC\", color = \"white\", edgecolor = \"k\")\n",
        "ax.legend(loc = \"upper left\")\n",
        "fig.savefig(f\"graphs_with_nodes_removed.pdf\", bbox_inches = \"tight\")\n",
        "plt.show()"
      ],
      "metadata": {
        "id": "68LQE5ZsLQny",
        "colab": {
          "base_uri": "https://localhost:8080/",
          "height": 286
        },
        "outputId": "989c2504-2f49-4981-9a9b-d4ed872d9a5c"
      },
      "execution_count": 35,
      "outputs": [
        {
          "output_type": "display_data",
          "data": {
            "text/plain": [
              "<Figure size 432x288 with 1 Axes>"
            ],
            "image/png": "[encoded data removed]"
          },
          "metadata": {
            "needs_background": "light"
          }
        }
      ]
    },
    {
      "cell_type": "markdown",
      "source": [
        "The average degree, clustering coefficient, PageRank, H-index, and G-index is computed among authors having the same academic title, and working in the same field."
      ],
      "metadata": {
        "id": "N6Qy92bR5_Jw"
      }
    },
    {
      "cell_type": "code",
      "source": [
        "# Dictionary containing academic titles key-value pairs.\n",
        "titles = {1: \"student\", 2: \"postdoc\", 3: \"professor\"}\n",
        "\n",
        "# Function which computes the analysis for a specific academic title.\n",
        "def analysis_for_specific_title(title):\n",
        "\n",
        "  # List of nodes of group i.\n",
        "  group = [node for node, data in list(G.nodes(data = True)) if data[\"academic_title\"] == title]\n",
        "\n",
        "  # Printing the average degree of group i.\n",
        "  print(f\"The average degree of group \\\"{titles[title]}\\\" is: {np.sum(np.array(degrees)[group]) / len(group)}.\")\n",
        "\n",
        "  # Printing the average clustering coefficient of group i.\n",
        "  print(f\"The average clustering coefficient of group \\\"{titles[title]}\\\" is: {np.sum(np.array(clustering_coefficients)[group]) / len(group)}.\")\n",
        "\n",
        "  # Printing the average pagerank of group i.\n",
        "  print(f\"The average PageRank of group \\\"{titles[title]}\\\" is: {np.sum(np.array(pageranks)[group]) / len(group)}.\")\n",
        "\n",
        "  # Computing the average h-index.\n",
        "  avg_h_index = np.sum([data[\"h_index\"] for node, data in list(G.nodes(data = True)) if data[\"academic_title\"] == title]) / len(group)\n",
        "\n",
        "  # Computing the average g-index.\n",
        "  avg_g_index = np.sum([data[\"g_index\"] for node, data in list(G.nodes(data = True)) if data[\"academic_title\"] == title]) / len(group)\n",
        "\n",
        "  # Printing the average h-index of group i.\n",
        "  print(f\"The average h-index of group \\\"{titles[title]}\\\" is: {avg_h_index}.\")\n",
        "\n",
        "  # Printing the average g-index of group i.\n",
        "  print(f\"The average g-index of group \\\"{titles[title]}\\\" is: {avg_g_index}.\")\n",
        "\n",
        "# Iterating over academic titles.\n",
        "for i in range(1, 4):\n",
        "\n",
        "  # Computing analysis for title i.\n",
        "  analysis_for_specific_title(i)"
      ],
      "metadata": {
        "id": "Q4mHECVsHlP7",
        "colab": {
          "base_uri": "https://localhost:8080/"
        },
        "outputId": "a42c91f7-d435-45c8-d44d-d9e461910a10"
      },
      "execution_count": 36,
      "outputs": [
        {
          "output_type": "stream",
          "name": "stdout",
          "text": [
            "The average degree of group \"student\" is: 1.9396551724137931.\n",
            "The average clustering coefficient of group \"student\" is: 0.22375508944073466.\n",
            "The average PageRank of group \"student\" is: 1.3974213412141979e-06.\n",
            "The average h-index of group \"student\" is: 2.2187310949788266.\n",
            "The average g-index of group \"student\" is: 4.285276769509982.\n",
            "The average degree of group \"postdoc\" is: 4.687944421740907.\n",
            "The average clustering coefficient of group \"postdoc\" is: 0.27631312469655805.\n",
            "The average PageRank of group \"postdoc\" is: 2.1339253322511707e-06.\n",
            "The average h-index of group \"postdoc\" is: 6.139027380465876.\n",
            "The average g-index of group \"postdoc\" is: 12.65132815692685.\n",
            "The average degree of group \"professor\" is: 9.392989993781447.\n",
            "The average clustering coefficient of group \"professor\" is: 0.15992348887946675.\n",
            "The average PageRank of group \"professor\" is: 3.3144804473146906e-06.\n",
            "The average h-index of group \"professor\" is: 12.676601277630166.\n",
            "The average g-index of group \"professor\" is: 25.544179998869353.\n"
          ]
        }
      ]
    },
    {
      "cell_type": "code",
      "source": [
        "# Function which computes the analysis for a specific field of science.\n",
        "def analysis_for_specific_field(field):\n",
        "\n",
        "  # List of nodes of group \"field\".\n",
        "  group = [node for node, data in list(G.nodes(data = True)) if data[field] == 1]\n",
        "\n",
        "  # Printing the average degree of group \"field\".\n",
        "  print(f\"The average degree based on \\\"{field}\\\" is: {np.sum(np.array(degrees)[group]) / len(group)}.\")\n",
        "\n",
        "  # Printing the average clustering coefficient of group \"field\".\n",
        "  print(f\"The average clustering coefficient based on \\\"{field}\\\" is: {np.sum(np.array(clustering_coefficients)[group]) / len(group)}.\")\n",
        "\n",
        "  # Printing the average pagerank of group \"field\".\n",
        "  print(f\"The average PageRank based on \\\"{field}\\\" is: {np.sum(np.array(pageranks)[group]) / len(group)}.\")\n",
        "\n",
        "  # Computing the average h-index.\n",
        "  avg_h_index = np.sum([data[\"h_index\"] for node, data in list(G.nodes(data = True)) if data[field] == 1]) / len(group)\n",
        "\n",
        "  # Computing the average g-index.\n",
        "  avg_g_index = np.sum([data[\"g_index\"] for node, data in list(G.nodes(data = True)) if data[field] == 1]) / len(group)\n",
        "\n",
        "  # Printing the average h-index of group \"field\".\n",
        "  print(f\"The average h-index based on \\\"{field}\\\" is: {avg_h_index}.\")\n",
        "\n",
        "  # Printing the average g-index of group \"field\".\n",
        "  print(f\"The average g-index based on \\\"{field}\\\" is: {avg_g_index}.\")\n",
        "\n",
        "# Computing analysis for computer science.\n",
        "analysis_for_specific_field(\"computer_science_author\")\n",
        "\n",
        "# Computing analysis for biology.\n",
        "analysis_for_specific_field(\"biology_author\")\n",
        "\n",
        "# Computing analysis for sociology.\n",
        "analysis_for_specific_field(\"sociology_author\")"
      ],
      "metadata": {
        "id": "suwyvev4ShmV",
        "colab": {
          "base_uri": "https://localhost:8080/"
        },
        "outputId": "433b164d-9bfd-457a-8443-e28bf8246e66"
      },
      "execution_count": 37,
      "outputs": [
        {
          "output_type": "stream",
          "name": "stdout",
          "text": [
            "The average degree based on \"computer_science_author\" is: 8.541414555360028.\n",
            "The average clustering coefficient based on \"computer_science_author\" is: 0.23749568296282517.\n",
            "The average PageRank based on \"computer_science_author\" is: 2.823313517020209e-06.\n",
            "The average h-index based on \"computer_science_author\" is: 8.322614082877323.\n",
            "The average g-index based on \"computer_science_author\" is: 16.83349805944604.\n",
            "The average degree based on \"biology_author\" is: 7.795497869137091.\n",
            "The average clustering coefficient based on \"biology_author\" is: 0.2188148572758744.\n",
            "The average PageRank based on \"biology_author\" is: 2.853969392064543e-06.\n",
            "The average h-index based on \"biology_author\" is: 10.424035647940165.\n",
            "The average g-index based on \"biology_author\" is: 21.29087796408494.\n",
            "The average degree based on \"sociology_author\" is: 5.567415730337078.\n",
            "The average clustering coefficient based on \"sociology_author\" is: 0.17560493370275798.\n",
            "The average PageRank based on \"sociology_author\" is: 2.564732605744508e-06.\n",
            "The average h-index based on \"sociology_author\" is: 11.097378277153558.\n",
            "The average g-index based on \"sociology_author\" is: 24.397627965043696.\n"
          ]
        }
      ]
    },
    {
      "cell_type": "markdown",
      "source": [
        "### Correlation Analysis"
      ],
      "metadata": {
        "id": "aUr47IQ06a8j"
      }
    },
    {
      "cell_type": "markdown",
      "source": [
        "The correlation between the co-authorship network (degree, clustering coefficient, PagaRank) and the citation metrics (total number of citations, H-index, G-index) is computed by using the Pearson correlation coefficient."
      ],
      "metadata": {
        "id": "Q4XrnrZf6eX2"
      }
    },
    {
      "cell_type": "code",
      "source": [
        "# Computing the list of total number of citations.\n",
        "total_number_of_citations = [data[\"total_number_of_citations\"] for node, data in list(G.nodes(data = True))]\n",
        "\n",
        "# Computing the list of h-indexes.\n",
        "h_indexes = [data[\"h_index\"] for node, data in list(G.nodes(data = True))]\n",
        "\n",
        "# Computing the list of g-indexes.\n",
        "g_indexes = [data[\"g_index\"] for node, data in list(G.nodes(data = True))]\n",
        "\n",
        "# Printing the Pearson correlation coefficients.\n",
        "print(f\"The Pearson correlation coefficient between total_number_of_citations and degrees is {stats.pearsonr(total_number_of_citations, degrees)[0]}.\")\n",
        "print(f\"The Pearson correlation coefficient between total_number_of_citations and clustering_coefficients is {stats.pearsonr(total_number_of_citations, clustering_coefficients)[0]}.\")\n",
        "print(f\"The Pearson correlation coefficient between total_number_of_citations and pageranks is {stats.pearsonr(total_number_of_citations, pageranks)[0]}.\")\n",
        "print(f\"The Pearson correlation coefficient between h_indexes and degrees is {stats.pearsonr(h_indexes, degrees)[0]}.\")\n",
        "print(f\"The Pearson correlation coefficient between h_indexes and clustering_coefficients is {stats.pearsonr(h_indexes, clustering_coefficients)[0]}.\")\n",
        "print(f\"The Pearson correlation coefficient between h_indexes and pageranks is {stats.pearsonr(h_indexes, pageranks)[0]}.\")\n",
        "print(f\"The Pearson correlation coefficient between g_indexes and degrees is {stats.pearsonr(g_indexes, degrees)[0]}.\")\n",
        "print(f\"The Pearson correlation coefficient between g_indexes and clustering_coefficients is {stats.pearsonr(g_indexes, clustering_coefficients)[0]}.\")\n",
        "print(f\"The Pearson correlation coefficient between g_indexes and pageranks is {stats.pearsonr(g_indexes, pageranks)[0]}.\")"
      ],
      "metadata": {
        "id": "4op598xNZeLX",
        "colab": {
          "base_uri": "https://localhost:8080/"
        },
        "outputId": "13ac07fa-4b89-4520-b96b-493c7a2895c4"
      },
      "execution_count": 38,
      "outputs": [
        {
          "output_type": "stream",
          "name": "stdout",
          "text": [
            "The Pearson correlation coefficient between total_number_of_citations and degrees is 0.5282246549685807.\n",
            "The Pearson correlation coefficient between total_number_of_citations and clustering_coefficients is -0.027465731381683865.\n",
            "The Pearson correlation coefficient between total_number_of_citations and pageranks is 0.5303918116000303.\n",
            "The Pearson correlation coefficient between h_indexes and degrees is 0.6785437418102267.\n",
            "The Pearson correlation coefficient between h_indexes and clustering_coefficients is 0.01637827921524193.\n",
            "The Pearson correlation coefficient between h_indexes and pageranks is 0.7280814186653497.\n",
            "The Pearson correlation coefficient between g_indexes and degrees is 0.6490288524338288.\n",
            "The Pearson correlation coefficient between g_indexes and clustering_coefficients is 0.021569904720877657.\n",
            "The Pearson correlation coefficient between g_indexes and pageranks is 0.6780007968789739.\n"
          ]
        }
      ]
    },
    {
      "cell_type": "markdown",
      "source": [
        "Lastly, an assortativity coefficient based on academic title, H-index, and G-index is computed."
      ],
      "metadata": {
        "id": "PkzJIU2e6zUb"
      }
    },
    {
      "cell_type": "code",
      "source": [
        "# Considering nodes with a defined academic title.\n",
        "nodes_with_title = [node for node, data in list(G.nodes(data = True)) if data[\"academic_title\"] == 1 or data[\"academic_title\"] == 2 or data[\"academic_title\"] == 3]\n",
        "\n",
        "# Computing and printing the assortatity coefficient based on attributes.\n",
        "print(\"The assortativity coefficient based on academic title is: {}.\".format(nx.numeric_assortativity_coefficient(G, \"academic_title\", nodes = nodes_with_title)))\n",
        "print(\"The assortativity coefficient based on h-index is: {}.\".format(nx.numeric_assortativity_coefficient(G, \"h_index\", nodes = nodes_with_title)))\n",
        "print(\"The assortativity coefficient based on g-index is: {}.\".format(nx.numeric_assortativity_coefficient(G, \"g_index\", nodes = nodes_with_title)))"
      ],
      "metadata": {
        "id": "YkgrPbMmvSax",
        "colab": {
          "base_uri": "https://localhost:8080/"
        },
        "outputId": "2689032e-fc8c-4df8-87e8-e2a5c028c574"
      },
      "execution_count": 39,
      "outputs": [
        {
          "output_type": "stream",
          "name": "stdout",
          "text": [
            "The assortativity coefficient based on academic title is: 0.16959266060251812.\n",
            "The assortativity coefficient based on h-index is: 0.20820993916117553.\n",
            "The assortativity coefficient based on g-index is: 0.24080875522508471.\n"
          ]
        }
      ]
    },
    {
      "cell_type": "markdown",
      "source": [
        "### References <a name=\"references\"></a>"
      ],
      "metadata": {
        "id": "akOAmGnN7g8y"
      }
    },
    {
      "cell_type": "markdown",
      "source": [
        "1. Yang Chen, Cong Ding, Jiyao Hu, Ruichuan Chen, Pan Hui and Xiaoming Fu, *Building and Analyzing a Global Co-Authorship Network Using Google Scholar Data*, DOI: [https://doi.org/10.1145/3041021.3053056](https://doi.org/10.1145/3041021.3053056).\n",
        "\n",
        "2. Yang Chen, *co-authorship-network*, [https://github.com/chenyang03/co-authorship-network](https://github.com/chenyang03/co-authorship-network)."
      ],
      "metadata": {
        "id": "2IV1ON8u7jNu"
      }
    }
  ]
}